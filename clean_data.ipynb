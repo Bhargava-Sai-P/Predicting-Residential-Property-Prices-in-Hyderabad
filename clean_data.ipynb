{
 "cells": [
  {
   "cell_type": "code",
   "execution_count": 23,
   "metadata": {},
   "outputs": [],
   "source": [
    "import numpy as np\n",
    "import pandas as pd\n",
    "import matplotlib.pyplot as plt\n",
    "import seaborn as sns\n",
    "import warnings\n",
    "warnings.filterwarnings('ignore')\n",
    "from geopy.geocoders import Nominatim"
   ]
  },
  {
   "cell_type": "code",
   "execution_count": 3,
   "metadata": {},
   "outputs": [
    {
     "data": {
      "text/html": [
       "<div>\n",
       "<style scoped>\n",
       "    .dataframe tbody tr th:only-of-type {\n",
       "        vertical-align: middle;\n",
       "    }\n",
       "\n",
       "    .dataframe tbody tr th {\n",
       "        vertical-align: top;\n",
       "    }\n",
       "\n",
       "    .dataframe thead th {\n",
       "        text-align: right;\n",
       "    }\n",
       "</style>\n",
       "<table border=\"1\" class=\"dataframe\">\n",
       "  <thead>\n",
       "    <tr style=\"text-align: right;\">\n",
       "      <th></th>\n",
       "      <th>type</th>\n",
       "      <th>latitude</th>\n",
       "      <th>longitude</th>\n",
       "      <th>locaLity score</th>\n",
       "      <th>age of property</th>\n",
       "      <th>power backup</th>\n",
       "      <th>lift</th>\n",
       "      <th>furninture status</th>\n",
       "      <th>carpet area</th>\n",
       "      <th>bathrooms</th>\n",
       "      <th>status of building</th>\n",
       "      <th>facing</th>\n",
       "      <th>location</th>\n",
       "      <th>price(L)</th>\n",
       "      <th>rate persqft</th>\n",
       "      <th>area insqft</th>\n",
       "      <th>construction status</th>\n",
       "      <th>property type</th>\n",
       "      <th>Bhk</th>\n",
       "    </tr>\n",
       "  </thead>\n",
       "  <tbody>\n",
       "    <tr>\n",
       "      <th>0</th>\n",
       "      <td>1 BHK Apartment</td>\n",
       "      <td>23.192745</td>\n",
       "      <td>77.471313</td>\n",
       "      <td>9.8</td>\n",
       "      <td>NaN</td>\n",
       "      <td>yes</td>\n",
       "      <td>yes</td>\n",
       "      <td>Furnished</td>\n",
       "      <td>NaN</td>\n",
       "      <td>1.0</td>\n",
       "      <td>New</td>\n",
       "      <td>East</td>\n",
       "      <td>Himayat Nagar</td>\n",
       "      <td>12.00</td>\n",
       "      <td>1846</td>\n",
       "      <td>650</td>\n",
       "      <td>Under Construction</td>\n",
       "      <td>Apartment</td>\n",
       "      <td>1</td>\n",
       "    </tr>\n",
       "    <tr>\n",
       "      <th>1</th>\n",
       "      <td>1 BHK Apartment</td>\n",
       "      <td>17.463173</td>\n",
       "      <td>78.286484</td>\n",
       "      <td>6.6</td>\n",
       "      <td>NaN</td>\n",
       "      <td>yes</td>\n",
       "      <td>yes</td>\n",
       "      <td>Unfurnished</td>\n",
       "      <td>NaN</td>\n",
       "      <td>2.0</td>\n",
       "      <td>New</td>\n",
       "      <td>NaN</td>\n",
       "      <td>Tellapur</td>\n",
       "      <td>28.99</td>\n",
       "      <td>2406</td>\n",
       "      <td>1205</td>\n",
       "      <td>Under Construction</td>\n",
       "      <td>Apartment</td>\n",
       "      <td>1</td>\n",
       "    </tr>\n",
       "    <tr>\n",
       "      <th>2</th>\n",
       "      <td>1 BHK Apartment</td>\n",
       "      <td>17.489849</td>\n",
       "      <td>78.293930</td>\n",
       "      <td>NaN</td>\n",
       "      <td>NaN</td>\n",
       "      <td>yes</td>\n",
       "      <td>yes</td>\n",
       "      <td>Unfurnished</td>\n",
       "      <td>NaN</td>\n",
       "      <td>2.0</td>\n",
       "      <td>New</td>\n",
       "      <td>NaN</td>\n",
       "      <td>BHEL</td>\n",
       "      <td>28.99</td>\n",
       "      <td>2406</td>\n",
       "      <td>1205</td>\n",
       "      <td>Under Construction</td>\n",
       "      <td>Apartment</td>\n",
       "      <td>1</td>\n",
       "    </tr>\n",
       "    <tr>\n",
       "      <th>3</th>\n",
       "      <td>1 BHK Apartment</td>\n",
       "      <td>17.536715</td>\n",
       "      <td>78.362610</td>\n",
       "      <td>NaN</td>\n",
       "      <td>9.0</td>\n",
       "      <td>yes</td>\n",
       "      <td>yes</td>\n",
       "      <td>Unfurnished</td>\n",
       "      <td>500.0</td>\n",
       "      <td>1.0</td>\n",
       "      <td>Resale</td>\n",
       "      <td>North</td>\n",
       "      <td>Whisper Valley</td>\n",
       "      <td>17.00</td>\n",
       "      <td>2881</td>\n",
       "      <td>590</td>\n",
       "      <td>Ready to move</td>\n",
       "      <td>Apartment</td>\n",
       "      <td>1</td>\n",
       "    </tr>\n",
       "    <tr>\n",
       "      <th>4</th>\n",
       "      <td>1 BHK Apartment</td>\n",
       "      <td>17.497248</td>\n",
       "      <td>78.503426</td>\n",
       "      <td>8.5</td>\n",
       "      <td>NaN</td>\n",
       "      <td>yes</td>\n",
       "      <td>yes</td>\n",
       "      <td>Unfurnished</td>\n",
       "      <td>NaN</td>\n",
       "      <td>2.0</td>\n",
       "      <td>New</td>\n",
       "      <td>NaN</td>\n",
       "      <td>Alwal</td>\n",
       "      <td>28.99</td>\n",
       "      <td>2406</td>\n",
       "      <td>1205</td>\n",
       "      <td>Under Construction</td>\n",
       "      <td>Apartment</td>\n",
       "      <td>1</td>\n",
       "    </tr>\n",
       "  </tbody>\n",
       "</table>\n",
       "</div>"
      ],
      "text/plain": [
       "              type   latitude  longitude  locaLity score  age of property  \\\n",
       "0  1 BHK Apartment  23.192745  77.471313             9.8              NaN   \n",
       "1  1 BHK Apartment  17.463173  78.286484             6.6              NaN   \n",
       "2  1 BHK Apartment  17.489849  78.293930             NaN              NaN   \n",
       "3  1 BHK Apartment  17.536715  78.362610             NaN              9.0   \n",
       "4  1 BHK Apartment  17.497248  78.503426             8.5              NaN   \n",
       "\n",
       "  power backup lift furninture status  carpet area  bathrooms  \\\n",
       "0          yes  yes         Furnished          NaN        1.0   \n",
       "1          yes  yes       Unfurnished          NaN        2.0   \n",
       "2          yes  yes       Unfurnished          NaN        2.0   \n",
       "3          yes  yes       Unfurnished        500.0        1.0   \n",
       "4          yes  yes       Unfurnished          NaN        2.0   \n",
       "\n",
       "  status of building facing        location  price(L)  rate persqft  \\\n",
       "0                New   East   Himayat Nagar     12.00          1846   \n",
       "1                New    NaN        Tellapur     28.99          2406   \n",
       "2                New    NaN            BHEL     28.99          2406   \n",
       "3             Resale  North  Whisper Valley     17.00          2881   \n",
       "4                New    NaN           Alwal     28.99          2406   \n",
       "\n",
       "   area insqft construction status property type  Bhk  \n",
       "0          650  Under Construction     Apartment    1  \n",
       "1         1205  Under Construction     Apartment    1  \n",
       "2         1205  Under Construction     Apartment    1  \n",
       "3          590       Ready to move     Apartment    1  \n",
       "4         1205  Under Construction     Apartment    1  "
      ]
     },
     "execution_count": 3,
     "metadata": {},
     "output_type": "execute_result"
    }
   ],
   "source": [
    "df=pd.read_excel('datafinal.xlsx',index_col=0)\n",
    "df.head()"
   ]
  },
  {
   "cell_type": "code",
   "execution_count": 4,
   "metadata": {},
   "outputs": [
    {
     "data": {
      "text/plain": [
       "(16102, 19)"
      ]
     },
     "execution_count": 4,
     "metadata": {},
     "output_type": "execute_result"
    }
   ],
   "source": [
    "df.shape"
   ]
  },
  {
   "cell_type": "code",
   "execution_count": 5,
   "metadata": {
    "collapsed": true
   },
   "outputs": [
    {
     "data": {
      "text/plain": [
       "type                    object\n",
       "latitude               float64\n",
       "longitude              float64\n",
       "locaLity score         float64\n",
       "age of property        float64\n",
       "power backup            object\n",
       "lift                    object\n",
       "furninture status       object\n",
       "carpet area            float64\n",
       "bathrooms              float64\n",
       "status of building      object\n",
       "facing                  object\n",
       "location                object\n",
       "price(L)               float64\n",
       "rate persqft             int64\n",
       "area insqft              int64\n",
       "construction status     object\n",
       "property type           object\n",
       "Bhk                      int64\n",
       "dtype: object"
      ]
     },
     "execution_count": 5,
     "metadata": {},
     "output_type": "execute_result"
    }
   ],
   "source": [
    "df.dtypes"
   ]
  },
  {
   "cell_type": "code",
   "execution_count": 21,
   "metadata": {},
   "outputs": [
    {
     "data": {
      "text/plain": [
       "type                       0\n",
       "latitude                  50\n",
       "longitude                 50\n",
       "locaLity score          6374\n",
       "age of property        15094\n",
       "power backup               0\n",
       "lift                       0\n",
       "furninture status         49\n",
       "carpet area             7410\n",
       "bathrooms               2155\n",
       "status of building        49\n",
       "facing                  3383\n",
       "location                   0\n",
       "price(L)                   0\n",
       "rate persqft               0\n",
       "area insqft                0\n",
       "construction status        0\n",
       "property type              0\n",
       "Bhk                        0\n",
       "dtype: int64"
      ]
     },
     "execution_count": 21,
     "metadata": {},
     "output_type": "execute_result"
    }
   ],
   "source": [
    "df.isnull().sum()"
   ]
  },
  {
   "cell_type": "code",
   "execution_count": 22,
   "metadata": {},
   "outputs": [],
   "source": [
    "df['latitude'].replace(np.NaN,0,inplace=True)\n",
    "df['longitude'].replace(np.NaN,0,inplace=True)"
   ]
  },
  {
   "cell_type": "code",
   "execution_count": 24,
   "metadata": {},
   "outputs": [],
   "source": [
    "lst=[]\n",
    "b=df[df['latitude'] == 0.0].index\n",
    "for i in b:\n",
    "    a=df.loc[i,'location'] \n",
    "    lst.append(a)"
   ]
  },
  {
   "cell_type": "code",
   "execution_count": 25,
   "metadata": {},
   "outputs": [],
   "source": [
    "x1=[]\n",
    "b\n",
    "c=0\n",
    "for i in lst:    \n",
    "    geolocator = Nominatim()\n",
    "    Area =i\n",
    "    City =\"Hyderabad\"\n",
    "    try:\n",
    "        loc = geolocator.geocode(Area+','+City)\n",
    "        a1=loc.latitude,loc.longitude\n",
    "        df.loc[b[c], 'latitude'] = a1[0]\n",
    "        df.loc[b[c], 'longitude'] = a1[1]\n",
    "        #l1.append(a1)\n",
    "    except:\n",
    "        x1.append(a)\n",
    "    c+=1"
   ]
  },
  {
   "cell_type": "code",
   "execution_count": 30,
   "metadata": {},
   "outputs": [],
   "source": [
    "df['latitude'].replace(0.0,np.NaN,inplace=True)\n",
    "df['longitude'].replace(0.0,np.NaN,inplace=True)"
   ]
  },
  {
   "cell_type": "code",
   "execution_count": 31,
   "metadata": {},
   "outputs": [
    {
     "data": {
      "text/plain": [
       "type                       0\n",
       "latitude                  11\n",
       "longitude                 11\n",
       "locaLity score          6374\n",
       "age of property        15094\n",
       "power backup               0\n",
       "lift                       0\n",
       "furninture status         49\n",
       "carpet area             7410\n",
       "bathrooms               2155\n",
       "status of building        49\n",
       "facing                  3383\n",
       "location                   0\n",
       "price(L)                   0\n",
       "rate persqft               0\n",
       "area insqft                0\n",
       "construction status        0\n",
       "property type              0\n",
       "Bhk                        0\n",
       "dtype: int64"
      ]
     },
     "execution_count": 31,
     "metadata": {},
     "output_type": "execute_result"
    }
   ],
   "source": [
    "df.isnull().sum()"
   ]
  },
  {
   "cell_type": "code",
   "execution_count": 32,
   "metadata": {},
   "outputs": [
    {
     "data": {
      "text/plain": [
       "type                    0.00\n",
       "latitude                0.07\n",
       "longitude               0.07\n",
       "locaLity score         39.59\n",
       "age of property        93.74\n",
       "power backup            0.00\n",
       "lift                    0.00\n",
       "furninture status       0.30\n",
       "carpet area            46.02\n",
       "bathrooms              13.38\n",
       "status of building      0.30\n",
       "facing                 21.01\n",
       "location                0.00\n",
       "price(L)                0.00\n",
       "rate persqft            0.00\n",
       "area insqft             0.00\n",
       "construction status     0.00\n",
       "property type           0.00\n",
       "Bhk                     0.00\n",
       "dtype: float64"
      ]
     },
     "execution_count": 32,
     "metadata": {},
     "output_type": "execute_result"
    }
   ],
   "source": [
    "round(100*(df.isnull().sum()/len(df.index)),2)"
   ]
  },
  {
   "cell_type": "code",
   "execution_count": 33,
   "metadata": {},
   "outputs": [],
   "source": [
    "df.drop(labels=['age of property','carpet area'],axis=1,inplace=True)"
   ]
  },
  {
   "cell_type": "code",
   "execution_count": 47,
   "metadata": {},
   "outputs": [],
   "source": [
    "df.drop(labels=['facing'],axis=1,inplace=True)"
   ]
  },
  {
   "cell_type": "code",
   "execution_count": 50,
   "metadata": {},
   "outputs": [],
   "source": [
    "df.drop(labels=['locaLity score'],axis=1,inplace=True)"
   ]
  },
  {
   "cell_type": "code",
   "execution_count": 51,
   "metadata": {},
   "outputs": [
    {
     "data": {
      "text/html": [
       "<div>\n",
       "<style scoped>\n",
       "    .dataframe tbody tr th:only-of-type {\n",
       "        vertical-align: middle;\n",
       "    }\n",
       "\n",
       "    .dataframe tbody tr th {\n",
       "        vertical-align: top;\n",
       "    }\n",
       "\n",
       "    .dataframe thead th {\n",
       "        text-align: right;\n",
       "    }\n",
       "</style>\n",
       "<table border=\"1\" class=\"dataframe\">\n",
       "  <thead>\n",
       "    <tr style=\"text-align: right;\">\n",
       "      <th></th>\n",
       "      <th>type</th>\n",
       "      <th>latitude</th>\n",
       "      <th>longitude</th>\n",
       "      <th>power backup</th>\n",
       "      <th>lift</th>\n",
       "      <th>furninture status</th>\n",
       "      <th>bathrooms</th>\n",
       "      <th>status of building</th>\n",
       "      <th>location</th>\n",
       "      <th>price(L)</th>\n",
       "      <th>rate persqft</th>\n",
       "      <th>area insqft</th>\n",
       "      <th>construction status</th>\n",
       "      <th>property type</th>\n",
       "      <th>Bhk</th>\n",
       "    </tr>\n",
       "  </thead>\n",
       "  <tbody>\n",
       "    <tr>\n",
       "      <th>0</th>\n",
       "      <td>1 BHK Apartment</td>\n",
       "      <td>23.192745</td>\n",
       "      <td>77.471313</td>\n",
       "      <td>yes</td>\n",
       "      <td>yes</td>\n",
       "      <td>Furnished</td>\n",
       "      <td>1.0</td>\n",
       "      <td>New</td>\n",
       "      <td>Himayat Nagar</td>\n",
       "      <td>12.00</td>\n",
       "      <td>1846</td>\n",
       "      <td>650</td>\n",
       "      <td>Under Construction</td>\n",
       "      <td>Apartment</td>\n",
       "      <td>1</td>\n",
       "    </tr>\n",
       "    <tr>\n",
       "      <th>1</th>\n",
       "      <td>1 BHK Apartment</td>\n",
       "      <td>17.463173</td>\n",
       "      <td>78.286484</td>\n",
       "      <td>yes</td>\n",
       "      <td>yes</td>\n",
       "      <td>Unfurnished</td>\n",
       "      <td>2.0</td>\n",
       "      <td>New</td>\n",
       "      <td>Tellapur</td>\n",
       "      <td>28.99</td>\n",
       "      <td>2406</td>\n",
       "      <td>1205</td>\n",
       "      <td>Under Construction</td>\n",
       "      <td>Apartment</td>\n",
       "      <td>1</td>\n",
       "    </tr>\n",
       "    <tr>\n",
       "      <th>2</th>\n",
       "      <td>1 BHK Apartment</td>\n",
       "      <td>17.489849</td>\n",
       "      <td>78.293930</td>\n",
       "      <td>yes</td>\n",
       "      <td>yes</td>\n",
       "      <td>Unfurnished</td>\n",
       "      <td>2.0</td>\n",
       "      <td>New</td>\n",
       "      <td>BHEL</td>\n",
       "      <td>28.99</td>\n",
       "      <td>2406</td>\n",
       "      <td>1205</td>\n",
       "      <td>Under Construction</td>\n",
       "      <td>Apartment</td>\n",
       "      <td>1</td>\n",
       "    </tr>\n",
       "    <tr>\n",
       "      <th>3</th>\n",
       "      <td>1 BHK Apartment</td>\n",
       "      <td>17.536715</td>\n",
       "      <td>78.362610</td>\n",
       "      <td>yes</td>\n",
       "      <td>yes</td>\n",
       "      <td>Unfurnished</td>\n",
       "      <td>1.0</td>\n",
       "      <td>Resale</td>\n",
       "      <td>Whisper Valley</td>\n",
       "      <td>17.00</td>\n",
       "      <td>2881</td>\n",
       "      <td>590</td>\n",
       "      <td>Ready to move</td>\n",
       "      <td>Apartment</td>\n",
       "      <td>1</td>\n",
       "    </tr>\n",
       "    <tr>\n",
       "      <th>4</th>\n",
       "      <td>1 BHK Apartment</td>\n",
       "      <td>17.497248</td>\n",
       "      <td>78.503426</td>\n",
       "      <td>yes</td>\n",
       "      <td>yes</td>\n",
       "      <td>Unfurnished</td>\n",
       "      <td>2.0</td>\n",
       "      <td>New</td>\n",
       "      <td>Alwal</td>\n",
       "      <td>28.99</td>\n",
       "      <td>2406</td>\n",
       "      <td>1205</td>\n",
       "      <td>Under Construction</td>\n",
       "      <td>Apartment</td>\n",
       "      <td>1</td>\n",
       "    </tr>\n",
       "  </tbody>\n",
       "</table>\n",
       "</div>"
      ],
      "text/plain": [
       "              type   latitude  longitude power backup lift furninture status  \\\n",
       "0  1 BHK Apartment  23.192745  77.471313          yes  yes         Furnished   \n",
       "1  1 BHK Apartment  17.463173  78.286484          yes  yes       Unfurnished   \n",
       "2  1 BHK Apartment  17.489849  78.293930          yes  yes       Unfurnished   \n",
       "3  1 BHK Apartment  17.536715  78.362610          yes  yes       Unfurnished   \n",
       "4  1 BHK Apartment  17.497248  78.503426          yes  yes       Unfurnished   \n",
       "\n",
       "   bathrooms status of building        location  price(L)  rate persqft  \\\n",
       "0        1.0                New   Himayat Nagar     12.00          1846   \n",
       "1        2.0                New        Tellapur     28.99          2406   \n",
       "2        2.0                New            BHEL     28.99          2406   \n",
       "3        1.0             Resale  Whisper Valley     17.00          2881   \n",
       "4        2.0                New           Alwal     28.99          2406   \n",
       "\n",
       "   area insqft construction status property type  Bhk  \n",
       "0          650  Under Construction     Apartment    1  \n",
       "1         1205  Under Construction     Apartment    1  \n",
       "2         1205  Under Construction     Apartment    1  \n",
       "3          590       Ready to move     Apartment    1  \n",
       "4         1205  Under Construction     Apartment    1  "
      ]
     },
     "execution_count": 51,
     "metadata": {},
     "output_type": "execute_result"
    }
   ],
   "source": [
    "df.head()"
   ]
  },
  {
   "cell_type": "code",
   "execution_count": 52,
   "metadata": {},
   "outputs": [
    {
     "data": {
      "text/plain": [
       "type                    0.00\n",
       "latitude                0.07\n",
       "longitude               0.07\n",
       "power backup            0.00\n",
       "lift                    0.00\n",
       "furninture status       0.30\n",
       "bathrooms              13.38\n",
       "status of building      0.30\n",
       "location                0.00\n",
       "price(L)                0.00\n",
       "rate persqft            0.00\n",
       "area insqft             0.00\n",
       "construction status     0.00\n",
       "property type           0.00\n",
       "Bhk                     0.00\n",
       "dtype: float64"
      ]
     },
     "execution_count": 52,
     "metadata": {},
     "output_type": "execute_result"
    }
   ],
   "source": [
    "round(100*(df.isnull().sum()/len(df.index)),2)"
   ]
  },
  {
   "cell_type": "code",
   "execution_count": 53,
   "metadata": {},
   "outputs": [],
   "source": [
    "df1=df.copy()"
   ]
  },
  {
   "cell_type": "code",
   "execution_count": 54,
   "metadata": {},
   "outputs": [
    {
     "data": {
      "text/plain": [
       "(16102, 15)"
      ]
     },
     "execution_count": 54,
     "metadata": {},
     "output_type": "execute_result"
    }
   ],
   "source": [
    "df1.shape"
   ]
  },
  {
   "cell_type": "code",
   "execution_count": 55,
   "metadata": {},
   "outputs": [],
   "source": [
    "df.dropna(axis=0,inplace=True)"
   ]
  },
  {
   "cell_type": "code",
   "execution_count": 56,
   "metadata": {},
   "outputs": [
    {
     "data": {
      "text/plain": [
       "(13947, 15)"
      ]
     },
     "execution_count": 56,
     "metadata": {},
     "output_type": "execute_result"
    }
   ],
   "source": [
    "df.shape"
   ]
  },
  {
   "cell_type": "code",
   "execution_count": 58,
   "metadata": {},
   "outputs": [
    {
     "data": {
      "text/plain": [
       "type                   0.0\n",
       "latitude               0.0\n",
       "longitude              0.0\n",
       "power backup           0.0\n",
       "lift                   0.0\n",
       "furninture status      0.0\n",
       "bathrooms              0.0\n",
       "status of building     0.0\n",
       "location               0.0\n",
       "price(L)               0.0\n",
       "rate persqft           0.0\n",
       "area insqft            0.0\n",
       "construction status    0.0\n",
       "property type          0.0\n",
       "Bhk                    0.0\n",
       "dtype: float64"
      ]
     },
     "execution_count": 58,
     "metadata": {},
     "output_type": "execute_result"
    }
   ],
   "source": [
    "round(100*(df.isnull().sum()/len(df.index)),2)"
   ]
  },
  {
   "cell_type": "code",
   "execution_count": 59,
   "metadata": {},
   "outputs": [],
   "source": [
    "writer = pd.ExcelWriter('final_cleandata.xlsx',engine ='xlsxwriter')\n",
    "df.to_excel(writer, 'Sheet1')\n",
    "writer.save()"
   ]
  },
  {
   "cell_type": "code",
   "execution_count": 60,
   "metadata": {},
   "outputs": [
    {
     "data": {
      "text/plain": [
       "(13947, 15)"
      ]
     },
     "execution_count": 60,
     "metadata": {},
     "output_type": "execute_result"
    }
   ],
   "source": [
    "df=pd.read_excel('final_cleandata.xlsx',index_col=0)\n",
    "df.shape"
   ]
  },
  {
   "cell_type": "code",
   "execution_count": null,
   "metadata": {},
   "outputs": [],
   "source": []
  }
 ],
 "metadata": {
  "kernelspec": {
   "display_name": "Python 3",
   "language": "python",
   "name": "python3"
  },
  "language_info": {
   "codemirror_mode": {
    "name": "ipython",
    "version": 3
   },
   "file_extension": ".py",
   "mimetype": "text/x-python",
   "name": "python",
   "nbconvert_exporter": "python",
   "pygments_lexer": "ipython3",
   "version": "3.7.3"
  }
 },
 "nbformat": 4,
 "nbformat_minor": 2
}
