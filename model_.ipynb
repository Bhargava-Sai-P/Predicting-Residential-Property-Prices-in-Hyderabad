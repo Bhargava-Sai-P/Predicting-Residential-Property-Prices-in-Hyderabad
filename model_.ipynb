{
 "cells": [
  {
   "cell_type": "code",
   "execution_count": 97,
   "metadata": {},
   "outputs": [],
   "source": [
    "import numpy as np\n",
    "import pandas as pd\n",
    "import matplotlib.pyplot as plt\n",
    "import seaborn as sns\n",
    "import warnings\n",
    "warnings.filterwarnings('ignore')\n",
    "from sklearn.feature_selection import RFE\n",
    "from sklearn.linear_model import RidgeCV, LassoCV, Ridge, Lasso\n",
    "from sklearn.model_selection import train_test_split"
   ]
  },
  {
   "cell_type": "code",
   "execution_count": 98,
   "metadata": {},
   "outputs": [
    {
     "data": {
      "text/html": [
       "<div>\n",
       "<style scoped>\n",
       "    .dataframe tbody tr th:only-of-type {\n",
       "        vertical-align: middle;\n",
       "    }\n",
       "\n",
       "    .dataframe tbody tr th {\n",
       "        vertical-align: top;\n",
       "    }\n",
       "\n",
       "    .dataframe thead th {\n",
       "        text-align: right;\n",
       "    }\n",
       "</style>\n",
       "<table border=\"1\" class=\"dataframe\">\n",
       "  <thead>\n",
       "    <tr style=\"text-align: right;\">\n",
       "      <th></th>\n",
       "      <th>type</th>\n",
       "      <th>latitude</th>\n",
       "      <th>longitude</th>\n",
       "      <th>power backup</th>\n",
       "      <th>lift</th>\n",
       "      <th>furninture status</th>\n",
       "      <th>bathrooms</th>\n",
       "      <th>status of building</th>\n",
       "      <th>location</th>\n",
       "      <th>rate persqft</th>\n",
       "      <th>area insqft</th>\n",
       "      <th>construction status</th>\n",
       "      <th>property type</th>\n",
       "      <th>Bhk</th>\n",
       "      <th>price(L)</th>\n",
       "    </tr>\n",
       "  </thead>\n",
       "  <tbody>\n",
       "    <tr>\n",
       "      <th>0</th>\n",
       "      <td>1 BHK Apartment</td>\n",
       "      <td>17.403968</td>\n",
       "      <td>78.483456</td>\n",
       "      <td>yes</td>\n",
       "      <td>yes</td>\n",
       "      <td>Furnished</td>\n",
       "      <td>1</td>\n",
       "      <td>New</td>\n",
       "      <td>Himayat Nagar</td>\n",
       "      <td>1846</td>\n",
       "      <td>650</td>\n",
       "      <td>Under Construction</td>\n",
       "      <td>Apartment</td>\n",
       "      <td>1</td>\n",
       "      <td>12.00</td>\n",
       "    </tr>\n",
       "    <tr>\n",
       "      <th>1</th>\n",
       "      <td>1 BHK Apartment</td>\n",
       "      <td>17.463173</td>\n",
       "      <td>78.286484</td>\n",
       "      <td>yes</td>\n",
       "      <td>yes</td>\n",
       "      <td>Unfurnished</td>\n",
       "      <td>2</td>\n",
       "      <td>New</td>\n",
       "      <td>Tellapur</td>\n",
       "      <td>2406</td>\n",
       "      <td>1205</td>\n",
       "      <td>Under Construction</td>\n",
       "      <td>Apartment</td>\n",
       "      <td>1</td>\n",
       "      <td>28.99</td>\n",
       "    </tr>\n",
       "    <tr>\n",
       "      <th>2</th>\n",
       "      <td>1 BHK Apartment</td>\n",
       "      <td>17.489849</td>\n",
       "      <td>78.293930</td>\n",
       "      <td>yes</td>\n",
       "      <td>yes</td>\n",
       "      <td>Unfurnished</td>\n",
       "      <td>2</td>\n",
       "      <td>New</td>\n",
       "      <td>BHEL</td>\n",
       "      <td>2406</td>\n",
       "      <td>1205</td>\n",
       "      <td>Under Construction</td>\n",
       "      <td>Apartment</td>\n",
       "      <td>1</td>\n",
       "      <td>28.99</td>\n",
       "    </tr>\n",
       "    <tr>\n",
       "      <th>3</th>\n",
       "      <td>1 BHK Apartment</td>\n",
       "      <td>17.536715</td>\n",
       "      <td>78.362610</td>\n",
       "      <td>yes</td>\n",
       "      <td>yes</td>\n",
       "      <td>Unfurnished</td>\n",
       "      <td>1</td>\n",
       "      <td>Resale</td>\n",
       "      <td>Whisper Valley</td>\n",
       "      <td>2881</td>\n",
       "      <td>590</td>\n",
       "      <td>Ready to move</td>\n",
       "      <td>Apartment</td>\n",
       "      <td>1</td>\n",
       "      <td>17.00</td>\n",
       "    </tr>\n",
       "    <tr>\n",
       "      <th>4</th>\n",
       "      <td>1 BHK Apartment</td>\n",
       "      <td>17.497248</td>\n",
       "      <td>78.503426</td>\n",
       "      <td>yes</td>\n",
       "      <td>yes</td>\n",
       "      <td>Unfurnished</td>\n",
       "      <td>2</td>\n",
       "      <td>New</td>\n",
       "      <td>Alwal</td>\n",
       "      <td>2406</td>\n",
       "      <td>1205</td>\n",
       "      <td>Under Construction</td>\n",
       "      <td>Apartment</td>\n",
       "      <td>1</td>\n",
       "      <td>28.99</td>\n",
       "    </tr>\n",
       "  </tbody>\n",
       "</table>\n",
       "</div>"
      ],
      "text/plain": [
       "              type   latitude  longitude power backup lift furninture status  \\\n",
       "0  1 BHK Apartment  17.403968  78.483456          yes  yes         Furnished   \n",
       "1  1 BHK Apartment  17.463173  78.286484          yes  yes       Unfurnished   \n",
       "2  1 BHK Apartment  17.489849  78.293930          yes  yes       Unfurnished   \n",
       "3  1 BHK Apartment  17.536715  78.362610          yes  yes       Unfurnished   \n",
       "4  1 BHK Apartment  17.497248  78.503426          yes  yes       Unfurnished   \n",
       "\n",
       "   bathrooms status of building        location  rate persqft  area insqft  \\\n",
       "0          1                New   Himayat Nagar          1846          650   \n",
       "1          2                New        Tellapur          2406         1205   \n",
       "2          2                New            BHEL          2406         1205   \n",
       "3          1             Resale  Whisper Valley          2881          590   \n",
       "4          2                New           Alwal          2406         1205   \n",
       "\n",
       "  construction status property type  Bhk  price(L)  \n",
       "0  Under Construction     Apartment    1     12.00  \n",
       "1  Under Construction     Apartment    1     28.99  \n",
       "2  Under Construction     Apartment    1     28.99  \n",
       "3       Ready to move     Apartment    1     17.00  \n",
       "4  Under Construction     Apartment    1     28.99  "
      ]
     },
     "execution_count": 98,
     "metadata": {},
     "output_type": "execute_result"
    }
   ],
   "source": [
    "df=pd.read_excel('data_model.xlsx',index_col=0)\n",
    "df.head()"
   ]
  },
  {
   "cell_type": "code",
   "execution_count": 99,
   "metadata": {},
   "outputs": [
    {
     "data": {
      "text/plain": [
       "(13597, 15)"
      ]
     },
     "execution_count": 99,
     "metadata": {},
     "output_type": "execute_result"
    }
   ],
   "source": [
    "df.shape"
   ]
  },
  {
   "cell_type": "code",
   "execution_count": 100,
   "metadata": {},
   "outputs": [],
   "source": [
    "df.drop(labels=['type','location','rate persqft'],axis=1,inplace=True)"
   ]
  },
  {
   "cell_type": "code",
   "execution_count": 101,
   "metadata": {},
   "outputs": [
    {
     "data": {
      "text/plain": [
       "(13597, 12)"
      ]
     },
     "execution_count": 101,
     "metadata": {},
     "output_type": "execute_result"
    }
   ],
   "source": [
    "df.shape"
   ]
  },
  {
   "cell_type": "code",
   "execution_count": 102,
   "metadata": {},
   "outputs": [
    {
     "data": {
      "text/html": [
       "<div>\n",
       "<style scoped>\n",
       "    .dataframe tbody tr th:only-of-type {\n",
       "        vertical-align: middle;\n",
       "    }\n",
       "\n",
       "    .dataframe tbody tr th {\n",
       "        vertical-align: top;\n",
       "    }\n",
       "\n",
       "    .dataframe thead th {\n",
       "        text-align: right;\n",
       "    }\n",
       "</style>\n",
       "<table border=\"1\" class=\"dataframe\">\n",
       "  <thead>\n",
       "    <tr style=\"text-align: right;\">\n",
       "      <th></th>\n",
       "      <th>latitude</th>\n",
       "      <th>longitude</th>\n",
       "      <th>power backup</th>\n",
       "      <th>lift</th>\n",
       "      <th>furninture status</th>\n",
       "      <th>bathrooms</th>\n",
       "      <th>status of building</th>\n",
       "      <th>area insqft</th>\n",
       "      <th>construction status</th>\n",
       "      <th>property type</th>\n",
       "      <th>Bhk</th>\n",
       "      <th>price(L)</th>\n",
       "    </tr>\n",
       "  </thead>\n",
       "  <tbody>\n",
       "    <tr>\n",
       "      <th>0</th>\n",
       "      <td>17.403968</td>\n",
       "      <td>78.483456</td>\n",
       "      <td>yes</td>\n",
       "      <td>yes</td>\n",
       "      <td>Furnished</td>\n",
       "      <td>1</td>\n",
       "      <td>New</td>\n",
       "      <td>650</td>\n",
       "      <td>Under Construction</td>\n",
       "      <td>Apartment</td>\n",
       "      <td>1</td>\n",
       "      <td>12.00</td>\n",
       "    </tr>\n",
       "    <tr>\n",
       "      <th>1</th>\n",
       "      <td>17.463173</td>\n",
       "      <td>78.286484</td>\n",
       "      <td>yes</td>\n",
       "      <td>yes</td>\n",
       "      <td>Unfurnished</td>\n",
       "      <td>2</td>\n",
       "      <td>New</td>\n",
       "      <td>1205</td>\n",
       "      <td>Under Construction</td>\n",
       "      <td>Apartment</td>\n",
       "      <td>1</td>\n",
       "      <td>28.99</td>\n",
       "    </tr>\n",
       "    <tr>\n",
       "      <th>2</th>\n",
       "      <td>17.489849</td>\n",
       "      <td>78.293930</td>\n",
       "      <td>yes</td>\n",
       "      <td>yes</td>\n",
       "      <td>Unfurnished</td>\n",
       "      <td>2</td>\n",
       "      <td>New</td>\n",
       "      <td>1205</td>\n",
       "      <td>Under Construction</td>\n",
       "      <td>Apartment</td>\n",
       "      <td>1</td>\n",
       "      <td>28.99</td>\n",
       "    </tr>\n",
       "    <tr>\n",
       "      <th>3</th>\n",
       "      <td>17.536715</td>\n",
       "      <td>78.362610</td>\n",
       "      <td>yes</td>\n",
       "      <td>yes</td>\n",
       "      <td>Unfurnished</td>\n",
       "      <td>1</td>\n",
       "      <td>Resale</td>\n",
       "      <td>590</td>\n",
       "      <td>Ready to move</td>\n",
       "      <td>Apartment</td>\n",
       "      <td>1</td>\n",
       "      <td>17.00</td>\n",
       "    </tr>\n",
       "    <tr>\n",
       "      <th>4</th>\n",
       "      <td>17.497248</td>\n",
       "      <td>78.503426</td>\n",
       "      <td>yes</td>\n",
       "      <td>yes</td>\n",
       "      <td>Unfurnished</td>\n",
       "      <td>2</td>\n",
       "      <td>New</td>\n",
       "      <td>1205</td>\n",
       "      <td>Under Construction</td>\n",
       "      <td>Apartment</td>\n",
       "      <td>1</td>\n",
       "      <td>28.99</td>\n",
       "    </tr>\n",
       "    <tr>\n",
       "      <th>5</th>\n",
       "      <td>17.534964</td>\n",
       "      <td>78.402245</td>\n",
       "      <td>yes</td>\n",
       "      <td>yes</td>\n",
       "      <td>Unfurnished</td>\n",
       "      <td>2</td>\n",
       "      <td>New</td>\n",
       "      <td>1205</td>\n",
       "      <td>Under Construction</td>\n",
       "      <td>Apartment</td>\n",
       "      <td>1</td>\n",
       "      <td>28.99</td>\n",
       "    </tr>\n",
       "    <tr>\n",
       "      <th>6</th>\n",
       "      <td>17.485710</td>\n",
       "      <td>78.396866</td>\n",
       "      <td>yes</td>\n",
       "      <td>yes</td>\n",
       "      <td>Unfurnished</td>\n",
       "      <td>2</td>\n",
       "      <td>New</td>\n",
       "      <td>1205</td>\n",
       "      <td>Under Construction</td>\n",
       "      <td>Apartment</td>\n",
       "      <td>1</td>\n",
       "      <td>28.99</td>\n",
       "    </tr>\n",
       "    <tr>\n",
       "      <th>7</th>\n",
       "      <td>17.391747</td>\n",
       "      <td>78.495956</td>\n",
       "      <td>yes</td>\n",
       "      <td>yes</td>\n",
       "      <td>Unfurnished</td>\n",
       "      <td>2</td>\n",
       "      <td>Resale</td>\n",
       "      <td>810</td>\n",
       "      <td>Ready to move</td>\n",
       "      <td>IndependentHouse</td>\n",
       "      <td>1</td>\n",
       "      <td>125.00</td>\n",
       "    </tr>\n",
       "    <tr>\n",
       "      <th>8</th>\n",
       "      <td>17.526516</td>\n",
       "      <td>78.358185</td>\n",
       "      <td>yes</td>\n",
       "      <td>yes</td>\n",
       "      <td>Semi-Furnished</td>\n",
       "      <td>2</td>\n",
       "      <td>Resale</td>\n",
       "      <td>1025</td>\n",
       "      <td>Ready to move</td>\n",
       "      <td>Apartment</td>\n",
       "      <td>1</td>\n",
       "      <td>27.00</td>\n",
       "    </tr>\n",
       "    <tr>\n",
       "      <th>9</th>\n",
       "      <td>17.402847</td>\n",
       "      <td>78.497955</td>\n",
       "      <td>yes</td>\n",
       "      <td>yes</td>\n",
       "      <td>Semi-Furnished</td>\n",
       "      <td>2</td>\n",
       "      <td>Resale</td>\n",
       "      <td>1000</td>\n",
       "      <td>Ready to move</td>\n",
       "      <td>Apartment</td>\n",
       "      <td>1</td>\n",
       "      <td>60.00</td>\n",
       "    </tr>\n",
       "    <tr>\n",
       "      <th>10</th>\n",
       "      <td>17.365601</td>\n",
       "      <td>78.432793</td>\n",
       "      <td>yes</td>\n",
       "      <td>yes</td>\n",
       "      <td>Semi-Furnished</td>\n",
       "      <td>2</td>\n",
       "      <td>Resale</td>\n",
       "      <td>716</td>\n",
       "      <td>Ready to move</td>\n",
       "      <td>IndependentHouse</td>\n",
       "      <td>1</td>\n",
       "      <td>23.99</td>\n",
       "    </tr>\n",
       "    <tr>\n",
       "      <th>11</th>\n",
       "      <td>17.451113</td>\n",
       "      <td>78.447617</td>\n",
       "      <td>yes</td>\n",
       "      <td>yes</td>\n",
       "      <td>Semi-Furnished</td>\n",
       "      <td>1</td>\n",
       "      <td>Resale</td>\n",
       "      <td>550</td>\n",
       "      <td>Ready to move</td>\n",
       "      <td>Apartment</td>\n",
       "      <td>1</td>\n",
       "      <td>25.00</td>\n",
       "    </tr>\n",
       "    <tr>\n",
       "      <th>12</th>\n",
       "      <td>17.444872</td>\n",
       "      <td>78.444191</td>\n",
       "      <td>yes</td>\n",
       "      <td>yes</td>\n",
       "      <td>Semi-Furnished</td>\n",
       "      <td>2</td>\n",
       "      <td>Resale</td>\n",
       "      <td>950</td>\n",
       "      <td>Ready to move</td>\n",
       "      <td>Apartment</td>\n",
       "      <td>1</td>\n",
       "      <td>42.00</td>\n",
       "    </tr>\n",
       "    <tr>\n",
       "      <th>13</th>\n",
       "      <td>17.491613</td>\n",
       "      <td>78.465714</td>\n",
       "      <td>yes</td>\n",
       "      <td>yes</td>\n",
       "      <td>Unfurnished</td>\n",
       "      <td>1</td>\n",
       "      <td>Resale</td>\n",
       "      <td>560</td>\n",
       "      <td>Ready to move</td>\n",
       "      <td>Apartment</td>\n",
       "      <td>1</td>\n",
       "      <td>25.00</td>\n",
       "    </tr>\n",
       "    <tr>\n",
       "      <th>14</th>\n",
       "      <td>17.440527</td>\n",
       "      <td>78.387558</td>\n",
       "      <td>yes</td>\n",
       "      <td>yes</td>\n",
       "      <td>Unfurnished</td>\n",
       "      <td>1</td>\n",
       "      <td>New</td>\n",
       "      <td>650</td>\n",
       "      <td>Under Construction</td>\n",
       "      <td>Apartment</td>\n",
       "      <td>1</td>\n",
       "      <td>19.50</td>\n",
       "    </tr>\n",
       "    <tr>\n",
       "      <th>15</th>\n",
       "      <td>17.350163</td>\n",
       "      <td>78.493309</td>\n",
       "      <td>yes</td>\n",
       "      <td>yes</td>\n",
       "      <td>Unfurnished</td>\n",
       "      <td>1</td>\n",
       "      <td>Resale</td>\n",
       "      <td>495</td>\n",
       "      <td>Ready to move</td>\n",
       "      <td>IndependentHouse</td>\n",
       "      <td>1</td>\n",
       "      <td>18.00</td>\n",
       "    </tr>\n",
       "    <tr>\n",
       "      <th>16</th>\n",
       "      <td>17.493687</td>\n",
       "      <td>78.340126</td>\n",
       "      <td>yes</td>\n",
       "      <td>yes</td>\n",
       "      <td>Unfurnished</td>\n",
       "      <td>2</td>\n",
       "      <td>New</td>\n",
       "      <td>1205</td>\n",
       "      <td>Under Construction</td>\n",
       "      <td>Apartment</td>\n",
       "      <td>1</td>\n",
       "      <td>28.99</td>\n",
       "    </tr>\n",
       "    <tr>\n",
       "      <th>17</th>\n",
       "      <td>17.511900</td>\n",
       "      <td>78.301750</td>\n",
       "      <td>yes</td>\n",
       "      <td>yes</td>\n",
       "      <td>Unfurnished</td>\n",
       "      <td>1</td>\n",
       "      <td>New</td>\n",
       "      <td>650</td>\n",
       "      <td>Under Construction</td>\n",
       "      <td>Apartment</td>\n",
       "      <td>1</td>\n",
       "      <td>19.00</td>\n",
       "    </tr>\n",
       "    <tr>\n",
       "      <th>18</th>\n",
       "      <td>17.485657</td>\n",
       "      <td>78.396660</td>\n",
       "      <td>yes</td>\n",
       "      <td>yes</td>\n",
       "      <td>Unfurnished</td>\n",
       "      <td>2</td>\n",
       "      <td>New</td>\n",
       "      <td>1205</td>\n",
       "      <td>Under Construction</td>\n",
       "      <td>Apartment</td>\n",
       "      <td>1</td>\n",
       "      <td>28.99</td>\n",
       "    </tr>\n",
       "    <tr>\n",
       "      <th>19</th>\n",
       "      <td>17.467796</td>\n",
       "      <td>78.425278</td>\n",
       "      <td>yes</td>\n",
       "      <td>yes</td>\n",
       "      <td>Unfurnished</td>\n",
       "      <td>2</td>\n",
       "      <td>New</td>\n",
       "      <td>1205</td>\n",
       "      <td>Under Construction</td>\n",
       "      <td>Apartment</td>\n",
       "      <td>1</td>\n",
       "      <td>28.99</td>\n",
       "    </tr>\n",
       "    <tr>\n",
       "      <th>20</th>\n",
       "      <td>17.534964</td>\n",
       "      <td>78.402245</td>\n",
       "      <td>yes</td>\n",
       "      <td>yes</td>\n",
       "      <td>Unfurnished</td>\n",
       "      <td>2</td>\n",
       "      <td>New</td>\n",
       "      <td>1095</td>\n",
       "      <td>Ready to move</td>\n",
       "      <td>Apartment</td>\n",
       "      <td>1</td>\n",
       "      <td>45.99</td>\n",
       "    </tr>\n",
       "    <tr>\n",
       "      <th>21</th>\n",
       "      <td>17.521358</td>\n",
       "      <td>78.384644</td>\n",
       "      <td>yes</td>\n",
       "      <td>yes</td>\n",
       "      <td>Unfurnished</td>\n",
       "      <td>2</td>\n",
       "      <td>New</td>\n",
       "      <td>920</td>\n",
       "      <td>Under Construction</td>\n",
       "      <td>Apartment</td>\n",
       "      <td>1</td>\n",
       "      <td>27.30</td>\n",
       "    </tr>\n",
       "    <tr>\n",
       "      <th>22</th>\n",
       "      <td>17.321707</td>\n",
       "      <td>78.575974</td>\n",
       "      <td>yes</td>\n",
       "      <td>yes</td>\n",
       "      <td>Unfurnished</td>\n",
       "      <td>2</td>\n",
       "      <td>Resale</td>\n",
       "      <td>1500</td>\n",
       "      <td>Ready to move</td>\n",
       "      <td>IndependentHouse</td>\n",
       "      <td>1</td>\n",
       "      <td>75.00</td>\n",
       "    </tr>\n",
       "    <tr>\n",
       "      <th>23</th>\n",
       "      <td>17.462889</td>\n",
       "      <td>78.595383</td>\n",
       "      <td>yes</td>\n",
       "      <td>yes</td>\n",
       "      <td>Semi-Furnished</td>\n",
       "      <td>2</td>\n",
       "      <td>Resale</td>\n",
       "      <td>1080</td>\n",
       "      <td>Ready to move</td>\n",
       "      <td>IndependentHouse</td>\n",
       "      <td>1</td>\n",
       "      <td>19.99</td>\n",
       "    </tr>\n",
       "    <tr>\n",
       "      <th>24</th>\n",
       "      <td>17.393570</td>\n",
       "      <td>78.416222</td>\n",
       "      <td>yes</td>\n",
       "      <td>yes</td>\n",
       "      <td>Semi-Furnished</td>\n",
       "      <td>2</td>\n",
       "      <td>Resale</td>\n",
       "      <td>1000</td>\n",
       "      <td>Ready to move</td>\n",
       "      <td>Apartment</td>\n",
       "      <td>1</td>\n",
       "      <td>60.00</td>\n",
       "    </tr>\n",
       "    <tr>\n",
       "      <th>25</th>\n",
       "      <td>17.431427</td>\n",
       "      <td>78.451347</td>\n",
       "      <td>yes</td>\n",
       "      <td>yes</td>\n",
       "      <td>Semi-Furnished</td>\n",
       "      <td>2</td>\n",
       "      <td>Resale</td>\n",
       "      <td>1500</td>\n",
       "      <td>Ready to move</td>\n",
       "      <td>Apartment</td>\n",
       "      <td>1</td>\n",
       "      <td>45.00</td>\n",
       "    </tr>\n",
       "    <tr>\n",
       "      <th>26</th>\n",
       "      <td>17.529755</td>\n",
       "      <td>78.343040</td>\n",
       "      <td>yes</td>\n",
       "      <td>yes</td>\n",
       "      <td>Semi-Furnished</td>\n",
       "      <td>2</td>\n",
       "      <td>Resale</td>\n",
       "      <td>1100</td>\n",
       "      <td>Ready to move</td>\n",
       "      <td>Apartment</td>\n",
       "      <td>1</td>\n",
       "      <td>63.00</td>\n",
       "    </tr>\n",
       "    <tr>\n",
       "      <th>27</th>\n",
       "      <td>17.536926</td>\n",
       "      <td>78.250999</td>\n",
       "      <td>yes</td>\n",
       "      <td>yes</td>\n",
       "      <td>Unfurnished</td>\n",
       "      <td>1</td>\n",
       "      <td>New</td>\n",
       "      <td>667</td>\n",
       "      <td>Under Construction</td>\n",
       "      <td>Apartment</td>\n",
       "      <td>1</td>\n",
       "      <td>19.00</td>\n",
       "    </tr>\n",
       "    <tr>\n",
       "      <th>28</th>\n",
       "      <td>17.485807</td>\n",
       "      <td>78.357193</td>\n",
       "      <td>yes</td>\n",
       "      <td>yes</td>\n",
       "      <td>Unfurnished</td>\n",
       "      <td>2</td>\n",
       "      <td>Resale</td>\n",
       "      <td>1271</td>\n",
       "      <td>Ready to move</td>\n",
       "      <td>Apartment</td>\n",
       "      <td>1</td>\n",
       "      <td>65.00</td>\n",
       "    </tr>\n",
       "    <tr>\n",
       "      <th>29</th>\n",
       "      <td>17.562809</td>\n",
       "      <td>78.375252</td>\n",
       "      <td>yes</td>\n",
       "      <td>yes</td>\n",
       "      <td>Unfurnished</td>\n",
       "      <td>1</td>\n",
       "      <td>New</td>\n",
       "      <td>660</td>\n",
       "      <td>Under Construction</td>\n",
       "      <td>Apartment</td>\n",
       "      <td>1</td>\n",
       "      <td>18.99</td>\n",
       "    </tr>\n",
       "    <tr>\n",
       "      <th>...</th>\n",
       "      <td>...</td>\n",
       "      <td>...</td>\n",
       "      <td>...</td>\n",
       "      <td>...</td>\n",
       "      <td>...</td>\n",
       "      <td>...</td>\n",
       "      <td>...</td>\n",
       "      <td>...</td>\n",
       "      <td>...</td>\n",
       "      <td>...</td>\n",
       "      <td>...</td>\n",
       "      <td>...</td>\n",
       "    </tr>\n",
       "    <tr>\n",
       "      <th>16059</th>\n",
       "      <td>17.407005</td>\n",
       "      <td>78.376099</td>\n",
       "      <td>yes</td>\n",
       "      <td>yes</td>\n",
       "      <td>Unfurnished</td>\n",
       "      <td>9</td>\n",
       "      <td>Resale</td>\n",
       "      <td>10000</td>\n",
       "      <td>Ready to move</td>\n",
       "      <td>IndependentHouse</td>\n",
       "      <td>8</td>\n",
       "      <td>600.00</td>\n",
       "    </tr>\n",
       "    <tr>\n",
       "      <th>16060</th>\n",
       "      <td>17.489227</td>\n",
       "      <td>78.399475</td>\n",
       "      <td>yes</td>\n",
       "      <td>yes</td>\n",
       "      <td>Semi-Furnished</td>\n",
       "      <td>8</td>\n",
       "      <td>Resale</td>\n",
       "      <td>10000</td>\n",
       "      <td>Ready to move</td>\n",
       "      <td>IndependentFloor</td>\n",
       "      <td>8</td>\n",
       "      <td>550.00</td>\n",
       "    </tr>\n",
       "    <tr>\n",
       "      <th>16061</th>\n",
       "      <td>17.405987</td>\n",
       "      <td>78.390846</td>\n",
       "      <td>yes</td>\n",
       "      <td>yes</td>\n",
       "      <td>Unfurnished</td>\n",
       "      <td>6</td>\n",
       "      <td>Resale</td>\n",
       "      <td>4140</td>\n",
       "      <td>Ready to move</td>\n",
       "      <td>IndependentHouse</td>\n",
       "      <td>8</td>\n",
       "      <td>449.98</td>\n",
       "    </tr>\n",
       "    <tr>\n",
       "      <th>16063</th>\n",
       "      <td>17.392262</td>\n",
       "      <td>78.497810</td>\n",
       "      <td>yes</td>\n",
       "      <td>yes</td>\n",
       "      <td>Unfurnished</td>\n",
       "      <td>8</td>\n",
       "      <td>Resale</td>\n",
       "      <td>6000</td>\n",
       "      <td>Ready to move</td>\n",
       "      <td>IndependentHouse</td>\n",
       "      <td>8</td>\n",
       "      <td>699.96</td>\n",
       "    </tr>\n",
       "    <tr>\n",
       "      <th>16064</th>\n",
       "      <td>17.479967</td>\n",
       "      <td>78.354355</td>\n",
       "      <td>yes</td>\n",
       "      <td>yes</td>\n",
       "      <td>Unfurnished</td>\n",
       "      <td>7</td>\n",
       "      <td>New</td>\n",
       "      <td>3600</td>\n",
       "      <td>Ready to move</td>\n",
       "      <td>IndependentHouse</td>\n",
       "      <td>8</td>\n",
       "      <td>249.98</td>\n",
       "    </tr>\n",
       "    <tr>\n",
       "      <th>16065</th>\n",
       "      <td>17.389578</td>\n",
       "      <td>78.429543</td>\n",
       "      <td>yes</td>\n",
       "      <td>yes</td>\n",
       "      <td>Semi-Furnished</td>\n",
       "      <td>4</td>\n",
       "      <td>Resale</td>\n",
       "      <td>3000</td>\n",
       "      <td>Ready to move</td>\n",
       "      <td>IndependentHouse</td>\n",
       "      <td>8</td>\n",
       "      <td>174.99</td>\n",
       "    </tr>\n",
       "    <tr>\n",
       "      <th>16066</th>\n",
       "      <td>17.424459</td>\n",
       "      <td>78.456665</td>\n",
       "      <td>yes</td>\n",
       "      <td>yes</td>\n",
       "      <td>Semi-Furnished</td>\n",
       "      <td>6</td>\n",
       "      <td>Resale</td>\n",
       "      <td>7500</td>\n",
       "      <td>Ready to move</td>\n",
       "      <td>Villa</td>\n",
       "      <td>8</td>\n",
       "      <td>499.95</td>\n",
       "    </tr>\n",
       "    <tr>\n",
       "      <th>16067</th>\n",
       "      <td>17.406216</td>\n",
       "      <td>78.376350</td>\n",
       "      <td>yes</td>\n",
       "      <td>yes</td>\n",
       "      <td>Furnished</td>\n",
       "      <td>9</td>\n",
       "      <td>Resale</td>\n",
       "      <td>10000</td>\n",
       "      <td>Ready to move</td>\n",
       "      <td>IndependentHouse</td>\n",
       "      <td>8</td>\n",
       "      <td>600.00</td>\n",
       "    </tr>\n",
       "    <tr>\n",
       "      <th>16068</th>\n",
       "      <td>17.464424</td>\n",
       "      <td>78.354164</td>\n",
       "      <td>yes</td>\n",
       "      <td>yes</td>\n",
       "      <td>Semi-Furnished</td>\n",
       "      <td>8</td>\n",
       "      <td>Resale</td>\n",
       "      <td>8000</td>\n",
       "      <td>Ready to move</td>\n",
       "      <td>IndependentHouse</td>\n",
       "      <td>9</td>\n",
       "      <td>390.00</td>\n",
       "    </tr>\n",
       "    <tr>\n",
       "      <th>16069</th>\n",
       "      <td>17.506763</td>\n",
       "      <td>78.540985</td>\n",
       "      <td>yes</td>\n",
       "      <td>yes</td>\n",
       "      <td>Semi-Furnished</td>\n",
       "      <td>10</td>\n",
       "      <td>New</td>\n",
       "      <td>8000</td>\n",
       "      <td>Under Construction</td>\n",
       "      <td>IndependentHouse</td>\n",
       "      <td>9</td>\n",
       "      <td>340.00</td>\n",
       "    </tr>\n",
       "    <tr>\n",
       "      <th>16071</th>\n",
       "      <td>17.429508</td>\n",
       "      <td>78.438812</td>\n",
       "      <td>yes</td>\n",
       "      <td>yes</td>\n",
       "      <td>Semi-Furnished</td>\n",
       "      <td>3</td>\n",
       "      <td>Resale</td>\n",
       "      <td>7380</td>\n",
       "      <td>Ready to move</td>\n",
       "      <td>IndependentHouse</td>\n",
       "      <td>9</td>\n",
       "      <td>1229.95</td>\n",
       "    </tr>\n",
       "    <tr>\n",
       "      <th>16072</th>\n",
       "      <td>17.319624</td>\n",
       "      <td>78.520752</td>\n",
       "      <td>yes</td>\n",
       "      <td>yes</td>\n",
       "      <td>Semi-Furnished</td>\n",
       "      <td>9</td>\n",
       "      <td>New</td>\n",
       "      <td>5000</td>\n",
       "      <td>Ready to move</td>\n",
       "      <td>IndependentHouse</td>\n",
       "      <td>9</td>\n",
       "      <td>170.00</td>\n",
       "    </tr>\n",
       "    <tr>\n",
       "      <th>16073</th>\n",
       "      <td>17.397966</td>\n",
       "      <td>78.512321</td>\n",
       "      <td>yes</td>\n",
       "      <td>yes</td>\n",
       "      <td>Semi-Furnished</td>\n",
       "      <td>8</td>\n",
       "      <td>Resale</td>\n",
       "      <td>6300</td>\n",
       "      <td>Ready to move</td>\n",
       "      <td>IndependentFloor</td>\n",
       "      <td>9</td>\n",
       "      <td>630.00</td>\n",
       "    </tr>\n",
       "    <tr>\n",
       "      <th>16074</th>\n",
       "      <td>17.392090</td>\n",
       "      <td>78.507156</td>\n",
       "      <td>yes</td>\n",
       "      <td>yes</td>\n",
       "      <td>Furnished</td>\n",
       "      <td>9</td>\n",
       "      <td>Resale</td>\n",
       "      <td>7000</td>\n",
       "      <td>Ready to move</td>\n",
       "      <td>IndependentHouse</td>\n",
       "      <td>9</td>\n",
       "      <td>350.00</td>\n",
       "    </tr>\n",
       "    <tr>\n",
       "      <th>16075</th>\n",
       "      <td>17.494513</td>\n",
       "      <td>78.366447</td>\n",
       "      <td>yes</td>\n",
       "      <td>yes</td>\n",
       "      <td>Unfurnished</td>\n",
       "      <td>12</td>\n",
       "      <td>New</td>\n",
       "      <td>12000</td>\n",
       "      <td>Ready to move</td>\n",
       "      <td>Apartment</td>\n",
       "      <td>9</td>\n",
       "      <td>750.00</td>\n",
       "    </tr>\n",
       "    <tr>\n",
       "      <th>16076</th>\n",
       "      <td>17.509069</td>\n",
       "      <td>78.351151</td>\n",
       "      <td>yes</td>\n",
       "      <td>yes</td>\n",
       "      <td>Semi-Furnished</td>\n",
       "      <td>12</td>\n",
       "      <td>New</td>\n",
       "      <td>3510</td>\n",
       "      <td>Ready to move</td>\n",
       "      <td>IndependentFloor</td>\n",
       "      <td>9</td>\n",
       "      <td>400.00</td>\n",
       "    </tr>\n",
       "    <tr>\n",
       "      <th>16078</th>\n",
       "      <td>17.346703</td>\n",
       "      <td>78.511978</td>\n",
       "      <td>yes</td>\n",
       "      <td>yes</td>\n",
       "      <td>Unfurnished</td>\n",
       "      <td>11</td>\n",
       "      <td>Resale</td>\n",
       "      <td>8000</td>\n",
       "      <td>Ready to move</td>\n",
       "      <td>IndependentHouse</td>\n",
       "      <td>10</td>\n",
       "      <td>280.00</td>\n",
       "    </tr>\n",
       "    <tr>\n",
       "      <th>16080</th>\n",
       "      <td>17.368465</td>\n",
       "      <td>78.531593</td>\n",
       "      <td>yes</td>\n",
       "      <td>yes</td>\n",
       "      <td>Unfurnished</td>\n",
       "      <td>10</td>\n",
       "      <td>Resale</td>\n",
       "      <td>9000</td>\n",
       "      <td>Ready to move</td>\n",
       "      <td>IndependentHouse</td>\n",
       "      <td>10</td>\n",
       "      <td>299.97</td>\n",
       "    </tr>\n",
       "    <tr>\n",
       "      <th>16081</th>\n",
       "      <td>17.530289</td>\n",
       "      <td>78.446854</td>\n",
       "      <td>yes</td>\n",
       "      <td>yes</td>\n",
       "      <td>Semi-Furnished</td>\n",
       "      <td>13</td>\n",
       "      <td>Resale</td>\n",
       "      <td>6000</td>\n",
       "      <td>Ready to move</td>\n",
       "      <td>IndependentHouse</td>\n",
       "      <td>10</td>\n",
       "      <td>169.98</td>\n",
       "    </tr>\n",
       "    <tr>\n",
       "      <th>16082</th>\n",
       "      <td>17.304760</td>\n",
       "      <td>78.469513</td>\n",
       "      <td>yes</td>\n",
       "      <td>yes</td>\n",
       "      <td>Unfurnished</td>\n",
       "      <td>8</td>\n",
       "      <td>Resale</td>\n",
       "      <td>4000</td>\n",
       "      <td>Ready to move</td>\n",
       "      <td>IndependentHouse</td>\n",
       "      <td>10</td>\n",
       "      <td>98.00</td>\n",
       "    </tr>\n",
       "    <tr>\n",
       "      <th>16084</th>\n",
       "      <td>17.311466</td>\n",
       "      <td>78.526283</td>\n",
       "      <td>yes</td>\n",
       "      <td>yes</td>\n",
       "      <td>Furnished</td>\n",
       "      <td>10</td>\n",
       "      <td>Resale</td>\n",
       "      <td>5000</td>\n",
       "      <td>Ready to move</td>\n",
       "      <td>IndependentHouse</td>\n",
       "      <td>10</td>\n",
       "      <td>140.00</td>\n",
       "    </tr>\n",
       "    <tr>\n",
       "      <th>16092</th>\n",
       "      <td>17.520285</td>\n",
       "      <td>78.351013</td>\n",
       "      <td>yes</td>\n",
       "      <td>yes</td>\n",
       "      <td>Semi-Furnished</td>\n",
       "      <td>10</td>\n",
       "      <td>Resale</td>\n",
       "      <td>6000</td>\n",
       "      <td>Ready to move</td>\n",
       "      <td>IndependentHouse</td>\n",
       "      <td>10</td>\n",
       "      <td>180.00</td>\n",
       "    </tr>\n",
       "    <tr>\n",
       "      <th>16093</th>\n",
       "      <td>17.369413</td>\n",
       "      <td>78.417633</td>\n",
       "      <td>yes</td>\n",
       "      <td>yes</td>\n",
       "      <td>Furnished</td>\n",
       "      <td>10</td>\n",
       "      <td>New</td>\n",
       "      <td>18225</td>\n",
       "      <td>Ready to move</td>\n",
       "      <td>Villa</td>\n",
       "      <td>11</td>\n",
       "      <td>499.91</td>\n",
       "    </tr>\n",
       "    <tr>\n",
       "      <th>16095</th>\n",
       "      <td>17.516722</td>\n",
       "      <td>78.341911</td>\n",
       "      <td>yes</td>\n",
       "      <td>yes</td>\n",
       "      <td>Unfurnished</td>\n",
       "      <td>12</td>\n",
       "      <td>New</td>\n",
       "      <td>6400</td>\n",
       "      <td>Under Construction</td>\n",
       "      <td>IndependentHouse</td>\n",
       "      <td>12</td>\n",
       "      <td>262.98</td>\n",
       "    </tr>\n",
       "    <tr>\n",
       "      <th>16096</th>\n",
       "      <td>17.498047</td>\n",
       "      <td>78.449562</td>\n",
       "      <td>yes</td>\n",
       "      <td>yes</td>\n",
       "      <td>Unfurnished</td>\n",
       "      <td>10</td>\n",
       "      <td>Resale</td>\n",
       "      <td>6500</td>\n",
       "      <td>Ready to move</td>\n",
       "      <td>IndependentHouse</td>\n",
       "      <td>12</td>\n",
       "      <td>199.94</td>\n",
       "    </tr>\n",
       "    <tr>\n",
       "      <th>16097</th>\n",
       "      <td>17.371981</td>\n",
       "      <td>78.413963</td>\n",
       "      <td>yes</td>\n",
       "      <td>yes</td>\n",
       "      <td>Unfurnished</td>\n",
       "      <td>12</td>\n",
       "      <td>Resale</td>\n",
       "      <td>5004</td>\n",
       "      <td>Ready to move</td>\n",
       "      <td>Villa</td>\n",
       "      <td>12</td>\n",
       "      <td>134.96</td>\n",
       "    </tr>\n",
       "    <tr>\n",
       "      <th>16098</th>\n",
       "      <td>17.516722</td>\n",
       "      <td>78.341911</td>\n",
       "      <td>yes</td>\n",
       "      <td>yes</td>\n",
       "      <td>Unfurnished</td>\n",
       "      <td>12</td>\n",
       "      <td>New</td>\n",
       "      <td>6400</td>\n",
       "      <td>Under Construction</td>\n",
       "      <td>IndependentHouse</td>\n",
       "      <td>12</td>\n",
       "      <td>262.98</td>\n",
       "    </tr>\n",
       "    <tr>\n",
       "      <th>16099</th>\n",
       "      <td>17.446587</td>\n",
       "      <td>78.485352</td>\n",
       "      <td>yes</td>\n",
       "      <td>yes</td>\n",
       "      <td>Unfurnished</td>\n",
       "      <td>11</td>\n",
       "      <td>Resale</td>\n",
       "      <td>7800</td>\n",
       "      <td>Ready to move</td>\n",
       "      <td>IndependentHouse</td>\n",
       "      <td>13</td>\n",
       "      <td>309.97</td>\n",
       "    </tr>\n",
       "    <tr>\n",
       "      <th>16100</th>\n",
       "      <td>17.475685</td>\n",
       "      <td>78.417633</td>\n",
       "      <td>yes</td>\n",
       "      <td>yes</td>\n",
       "      <td>Unfurnished</td>\n",
       "      <td>14</td>\n",
       "      <td>New</td>\n",
       "      <td>6500</td>\n",
       "      <td>Ready to move</td>\n",
       "      <td>IndependentHouse</td>\n",
       "      <td>15</td>\n",
       "      <td>199.94</td>\n",
       "    </tr>\n",
       "    <tr>\n",
       "      <th>16101</th>\n",
       "      <td>17.402769</td>\n",
       "      <td>78.376678</td>\n",
       "      <td>yes</td>\n",
       "      <td>yes</td>\n",
       "      <td>Unfurnished</td>\n",
       "      <td>20</td>\n",
       "      <td>New</td>\n",
       "      <td>7000</td>\n",
       "      <td>Ready to move</td>\n",
       "      <td>IndependentHouse</td>\n",
       "      <td>15</td>\n",
       "      <td>269.99</td>\n",
       "    </tr>\n",
       "  </tbody>\n",
       "</table>\n",
       "<p>13597 rows × 12 columns</p>\n",
       "</div>"
      ],
      "text/plain": [
       "        latitude  longitude power backup lift furninture status  bathrooms  \\\n",
       "0      17.403968  78.483456          yes  yes         Furnished          1   \n",
       "1      17.463173  78.286484          yes  yes       Unfurnished          2   \n",
       "2      17.489849  78.293930          yes  yes       Unfurnished          2   \n",
       "3      17.536715  78.362610          yes  yes       Unfurnished          1   \n",
       "4      17.497248  78.503426          yes  yes       Unfurnished          2   \n",
       "5      17.534964  78.402245          yes  yes       Unfurnished          2   \n",
       "6      17.485710  78.396866          yes  yes       Unfurnished          2   \n",
       "7      17.391747  78.495956          yes  yes       Unfurnished          2   \n",
       "8      17.526516  78.358185          yes  yes    Semi-Furnished          2   \n",
       "9      17.402847  78.497955          yes  yes    Semi-Furnished          2   \n",
       "10     17.365601  78.432793          yes  yes    Semi-Furnished          2   \n",
       "11     17.451113  78.447617          yes  yes    Semi-Furnished          1   \n",
       "12     17.444872  78.444191          yes  yes    Semi-Furnished          2   \n",
       "13     17.491613  78.465714          yes  yes       Unfurnished          1   \n",
       "14     17.440527  78.387558          yes  yes       Unfurnished          1   \n",
       "15     17.350163  78.493309          yes  yes       Unfurnished          1   \n",
       "16     17.493687  78.340126          yes  yes       Unfurnished          2   \n",
       "17     17.511900  78.301750          yes  yes       Unfurnished          1   \n",
       "18     17.485657  78.396660          yes  yes       Unfurnished          2   \n",
       "19     17.467796  78.425278          yes  yes       Unfurnished          2   \n",
       "20     17.534964  78.402245          yes  yes       Unfurnished          2   \n",
       "21     17.521358  78.384644          yes  yes       Unfurnished          2   \n",
       "22     17.321707  78.575974          yes  yes       Unfurnished          2   \n",
       "23     17.462889  78.595383          yes  yes    Semi-Furnished          2   \n",
       "24     17.393570  78.416222          yes  yes    Semi-Furnished          2   \n",
       "25     17.431427  78.451347          yes  yes    Semi-Furnished          2   \n",
       "26     17.529755  78.343040          yes  yes    Semi-Furnished          2   \n",
       "27     17.536926  78.250999          yes  yes       Unfurnished          1   \n",
       "28     17.485807  78.357193          yes  yes       Unfurnished          2   \n",
       "29     17.562809  78.375252          yes  yes       Unfurnished          1   \n",
       "...          ...        ...          ...  ...               ...        ...   \n",
       "16059  17.407005  78.376099          yes  yes       Unfurnished          9   \n",
       "16060  17.489227  78.399475          yes  yes    Semi-Furnished          8   \n",
       "16061  17.405987  78.390846          yes  yes       Unfurnished          6   \n",
       "16063  17.392262  78.497810          yes  yes       Unfurnished          8   \n",
       "16064  17.479967  78.354355          yes  yes       Unfurnished          7   \n",
       "16065  17.389578  78.429543          yes  yes    Semi-Furnished          4   \n",
       "16066  17.424459  78.456665          yes  yes    Semi-Furnished          6   \n",
       "16067  17.406216  78.376350          yes  yes         Furnished          9   \n",
       "16068  17.464424  78.354164          yes  yes    Semi-Furnished          8   \n",
       "16069  17.506763  78.540985          yes  yes    Semi-Furnished         10   \n",
       "16071  17.429508  78.438812          yes  yes    Semi-Furnished          3   \n",
       "16072  17.319624  78.520752          yes  yes    Semi-Furnished          9   \n",
       "16073  17.397966  78.512321          yes  yes    Semi-Furnished          8   \n",
       "16074  17.392090  78.507156          yes  yes         Furnished          9   \n",
       "16075  17.494513  78.366447          yes  yes       Unfurnished         12   \n",
       "16076  17.509069  78.351151          yes  yes    Semi-Furnished         12   \n",
       "16078  17.346703  78.511978          yes  yes       Unfurnished         11   \n",
       "16080  17.368465  78.531593          yes  yes       Unfurnished         10   \n",
       "16081  17.530289  78.446854          yes  yes    Semi-Furnished         13   \n",
       "16082  17.304760  78.469513          yes  yes       Unfurnished          8   \n",
       "16084  17.311466  78.526283          yes  yes         Furnished         10   \n",
       "16092  17.520285  78.351013          yes  yes    Semi-Furnished         10   \n",
       "16093  17.369413  78.417633          yes  yes         Furnished         10   \n",
       "16095  17.516722  78.341911          yes  yes       Unfurnished         12   \n",
       "16096  17.498047  78.449562          yes  yes       Unfurnished         10   \n",
       "16097  17.371981  78.413963          yes  yes       Unfurnished         12   \n",
       "16098  17.516722  78.341911          yes  yes       Unfurnished         12   \n",
       "16099  17.446587  78.485352          yes  yes       Unfurnished         11   \n",
       "16100  17.475685  78.417633          yes  yes       Unfurnished         14   \n",
       "16101  17.402769  78.376678          yes  yes       Unfurnished         20   \n",
       "\n",
       "      status of building  area insqft construction status     property type  \\\n",
       "0                    New          650  Under Construction         Apartment   \n",
       "1                    New         1205  Under Construction         Apartment   \n",
       "2                    New         1205  Under Construction         Apartment   \n",
       "3                 Resale          590       Ready to move         Apartment   \n",
       "4                    New         1205  Under Construction         Apartment   \n",
       "5                    New         1205  Under Construction         Apartment   \n",
       "6                    New         1205  Under Construction         Apartment   \n",
       "7                 Resale          810       Ready to move  IndependentHouse   \n",
       "8                 Resale         1025       Ready to move         Apartment   \n",
       "9                 Resale         1000       Ready to move         Apartment   \n",
       "10                Resale          716       Ready to move  IndependentHouse   \n",
       "11                Resale          550       Ready to move         Apartment   \n",
       "12                Resale          950       Ready to move         Apartment   \n",
       "13                Resale          560       Ready to move         Apartment   \n",
       "14                   New          650  Under Construction         Apartment   \n",
       "15                Resale          495       Ready to move  IndependentHouse   \n",
       "16                   New         1205  Under Construction         Apartment   \n",
       "17                   New          650  Under Construction         Apartment   \n",
       "18                   New         1205  Under Construction         Apartment   \n",
       "19                   New         1205  Under Construction         Apartment   \n",
       "20                   New         1095       Ready to move         Apartment   \n",
       "21                   New          920  Under Construction         Apartment   \n",
       "22                Resale         1500       Ready to move  IndependentHouse   \n",
       "23                Resale         1080       Ready to move  IndependentHouse   \n",
       "24                Resale         1000       Ready to move         Apartment   \n",
       "25                Resale         1500       Ready to move         Apartment   \n",
       "26                Resale         1100       Ready to move         Apartment   \n",
       "27                   New          667  Under Construction         Apartment   \n",
       "28                Resale         1271       Ready to move         Apartment   \n",
       "29                   New          660  Under Construction         Apartment   \n",
       "...                  ...          ...                 ...               ...   \n",
       "16059             Resale        10000       Ready to move  IndependentHouse   \n",
       "16060             Resale        10000       Ready to move  IndependentFloor   \n",
       "16061             Resale         4140       Ready to move  IndependentHouse   \n",
       "16063             Resale         6000       Ready to move  IndependentHouse   \n",
       "16064                New         3600       Ready to move  IndependentHouse   \n",
       "16065             Resale         3000       Ready to move  IndependentHouse   \n",
       "16066             Resale         7500       Ready to move             Villa   \n",
       "16067             Resale        10000       Ready to move  IndependentHouse   \n",
       "16068             Resale         8000       Ready to move  IndependentHouse   \n",
       "16069                New         8000  Under Construction  IndependentHouse   \n",
       "16071             Resale         7380       Ready to move  IndependentHouse   \n",
       "16072                New         5000       Ready to move  IndependentHouse   \n",
       "16073             Resale         6300       Ready to move  IndependentFloor   \n",
       "16074             Resale         7000       Ready to move  IndependentHouse   \n",
       "16075                New        12000       Ready to move         Apartment   \n",
       "16076                New         3510       Ready to move  IndependentFloor   \n",
       "16078             Resale         8000       Ready to move  IndependentHouse   \n",
       "16080             Resale         9000       Ready to move  IndependentHouse   \n",
       "16081             Resale         6000       Ready to move  IndependentHouse   \n",
       "16082             Resale         4000       Ready to move  IndependentHouse   \n",
       "16084             Resale         5000       Ready to move  IndependentHouse   \n",
       "16092             Resale         6000       Ready to move  IndependentHouse   \n",
       "16093                New        18225       Ready to move             Villa   \n",
       "16095                New         6400  Under Construction  IndependentHouse   \n",
       "16096             Resale         6500       Ready to move  IndependentHouse   \n",
       "16097             Resale         5004       Ready to move             Villa   \n",
       "16098                New         6400  Under Construction  IndependentHouse   \n",
       "16099             Resale         7800       Ready to move  IndependentHouse   \n",
       "16100                New         6500       Ready to move  IndependentHouse   \n",
       "16101                New         7000       Ready to move  IndependentHouse   \n",
       "\n",
       "       Bhk  price(L)  \n",
       "0        1     12.00  \n",
       "1        1     28.99  \n",
       "2        1     28.99  \n",
       "3        1     17.00  \n",
       "4        1     28.99  \n",
       "5        1     28.99  \n",
       "6        1     28.99  \n",
       "7        1    125.00  \n",
       "8        1     27.00  \n",
       "9        1     60.00  \n",
       "10       1     23.99  \n",
       "11       1     25.00  \n",
       "12       1     42.00  \n",
       "13       1     25.00  \n",
       "14       1     19.50  \n",
       "15       1     18.00  \n",
       "16       1     28.99  \n",
       "17       1     19.00  \n",
       "18       1     28.99  \n",
       "19       1     28.99  \n",
       "20       1     45.99  \n",
       "21       1     27.30  \n",
       "22       1     75.00  \n",
       "23       1     19.99  \n",
       "24       1     60.00  \n",
       "25       1     45.00  \n",
       "26       1     63.00  \n",
       "27       1     19.00  \n",
       "28       1     65.00  \n",
       "29       1     18.99  \n",
       "...    ...       ...  \n",
       "16059    8    600.00  \n",
       "16060    8    550.00  \n",
       "16061    8    449.98  \n",
       "16063    8    699.96  \n",
       "16064    8    249.98  \n",
       "16065    8    174.99  \n",
       "16066    8    499.95  \n",
       "16067    8    600.00  \n",
       "16068    9    390.00  \n",
       "16069    9    340.00  \n",
       "16071    9   1229.95  \n",
       "16072    9    170.00  \n",
       "16073    9    630.00  \n",
       "16074    9    350.00  \n",
       "16075    9    750.00  \n",
       "16076    9    400.00  \n",
       "16078   10    280.00  \n",
       "16080   10    299.97  \n",
       "16081   10    169.98  \n",
       "16082   10     98.00  \n",
       "16084   10    140.00  \n",
       "16092   10    180.00  \n",
       "16093   11    499.91  \n",
       "16095   12    262.98  \n",
       "16096   12    199.94  \n",
       "16097   12    134.96  \n",
       "16098   12    262.98  \n",
       "16099   13    309.97  \n",
       "16100   15    199.94  \n",
       "16101   15    269.99  \n",
       "\n",
       "[13597 rows x 12 columns]"
      ]
     },
     "execution_count": 102,
     "metadata": {},
     "output_type": "execute_result"
    }
   ],
   "source": [
    "df"
   ]
  },
  {
   "cell_type": "code",
   "execution_count": 103,
   "metadata": {},
   "outputs": [
    {
     "data": {
      "text/plain": [
       "Index(['latitude', 'longitude', 'power backup', 'lift', 'furninture status',\n",
       "       'bathrooms', 'status of building', 'area insqft', 'construction status',\n",
       "       'property type', 'Bhk', 'price(L)'],\n",
       "      dtype='object')"
      ]
     },
     "execution_count": 103,
     "metadata": {},
     "output_type": "execute_result"
    }
   ],
   "source": [
    "df.columns"
   ]
  },
  {
   "cell_type": "code",
   "execution_count": 104,
   "metadata": {},
   "outputs": [
    {
     "data": {
      "image/png": "[encoded data removed]",
      "text/plain": [
       "<Figure size 576x360 with 1 Axes>"
      ]
     },
     "metadata": {
      "needs_background": "light"
     },
     "output_type": "display_data"
    },
    {
     "data": {
      "image/png": "[encoded data removed]",
      "text/plain": [
       "<Figure size 576x360 with 1 Axes>"
      ]
     },
     "metadata": {
      "needs_background": "light"
     },
     "output_type": "display_data"
    },
    {
     "data": {
      "image/png": "[encoded data removed]",
      "text/plain": [
       "<Figure size 576x360 with 1 Axes>"
      ]
     },
     "metadata": {
      "needs_background": "light"
     },
     "output_type": "display_data"
    },
    {
     "data": {
      "image/png": "[encoded data removed]",
      "text/plain": [
       "<Figure size 576x360 with 1 Axes>"
      ]
     },
     "metadata": {
      "needs_background": "light"
     },
     "output_type": "display_data"
    },
    {
     "data": {
      "image/png": "[encoded data removed]",
      "text/plain": [
       "<Figure size 576x360 with 1 Axes>"
      ]
     },
     "metadata": {
      "needs_background": "light"
     },
     "output_type": "display_data"
    },
    {
     "data": {
      "image/png": "[encoded data removed]",
      "text/plain": [
       "<Figure size 576x360 with 1 Axes>"
      ]
     },
     "metadata": {
      "needs_background": "light"
     },
     "output_type": "display_data"
    }
   ],
   "source": [
    "l1 = ['property type','furninture status','status of building','construction status','power backup','lift']\n",
    "for i in l1:\n",
    "    fig,ax=plt.subplots(figsize=(8,5))\n",
    "    sns.countplot(df[i],palette='muted',ax=ax)\n",
    "    ax.set_xticklabels(ax.get_xticklabels(),rotation=50,ha='right')\n",
    "    plt.show()\n",
    "    \n",
    "    \n",
    "    "
   ]
  },
  {
   "cell_type": "code",
   "execution_count": 105,
   "metadata": {},
   "outputs": [
    {
     "data": {
      "image/png": "[encoded data removed]",
      "text/plain": [
       "<Figure size 1440x1080 with 6 Axes>"
      ]
     },
     "metadata": {
      "needs_background": "light"
     },
     "output_type": "display_data"
    }
   ],
   "source": [
    "df.hist(bins=50, figsize=(20,15))\n",
    "plt.show()"
   ]
  },
  {
   "cell_type": "code",
   "execution_count": 106,
   "metadata": {},
   "outputs": [
    {
     "data": {
      "image/png": "[encoded data removed]",
      "text/plain": [
       "<Figure size 432x432 with 3 Axes>"
      ]
     },
     "metadata": {
      "needs_background": "light"
     },
     "output_type": "display_data"
    },
    {
     "data": {
      "image/png": "[encoded data removed]",
      "text/plain": [
       "<Figure size 432x432 with 3 Axes>"
      ]
     },
     "metadata": {
      "needs_background": "light"
     },
     "output_type": "display_data"
    },
    {
     "data": {
      "image/png": "[encoded data removed]",
      "text/plain": [
       "<Figure size 432x432 with 3 Axes>"
      ]
     },
     "metadata": {
      "needs_background": "light"
     },
     "output_type": "display_data"
    },
    {
     "data": {
      "image/png": "[encoded data removed]",
      "text/plain": [
       "<Figure size 432x432 with 3 Axes>"
      ]
     },
     "metadata": {
      "needs_background": "light"
     },
     "output_type": "display_data"
    },
    {
     "data": {
      "image/png": "[encoded data removed]",
      "text/plain": [
       "<Figure size 432x432 with 3 Axes>"
      ]
     },
     "metadata": {
      "needs_background": "light"
     },
     "output_type": "display_data"
    }
   ],
   "source": [
    "lst=['latitude','longitude','bathrooms','area insqft','Bhk']\n",
    "for i in lst:\n",
    "    sns.jointplot(df[i],df['price(L)'],data=df)\n",
    "    plt.show()"
   ]
  },
  {
   "cell_type": "code",
   "execution_count": 107,
   "metadata": {},
   "outputs": [
    {
     "data": {
      "text/plain": [
       "<matplotlib.axes._subplots.AxesSubplot at 0x1ba9aa2bfd0>"
      ]
     },
     "execution_count": 107,
     "metadata": {},
     "output_type": "execute_result"
    },
    {
     "data": {
      "image/png": "[encoded data removed]",
      "text/plain": [
       "<Figure size 864x576 with 2 Axes>"
      ]
     },
     "metadata": {
      "needs_background": "light"
     },
     "output_type": "display_data"
    }
   ],
   "source": [
    "corr = df.corr()\n",
    "fig,ax= plt.subplots()\n",
    "fig.set_size_inches(12,8)\n",
    "sns.heatmap(corr,annot=True, cmap=\"viridis\")"
   ]
  },
  {
   "cell_type": "code",
   "execution_count": 108,
   "metadata": {},
   "outputs": [
    {
     "data": {
      "text/html": [
       "<div>\n",
       "<style scoped>\n",
       "    .dataframe tbody tr th:only-of-type {\n",
       "        vertical-align: middle;\n",
       "    }\n",
       "\n",
       "    .dataframe tbody tr th {\n",
       "        vertical-align: top;\n",
       "    }\n",
       "\n",
       "    .dataframe thead th {\n",
       "        text-align: right;\n",
       "    }\n",
       "</style>\n",
       "<table border=\"1\" class=\"dataframe\">\n",
       "  <thead>\n",
       "    <tr style=\"text-align: right;\">\n",
       "      <th></th>\n",
       "      <th>latitude</th>\n",
       "      <th>longitude</th>\n",
       "      <th>bathrooms</th>\n",
       "      <th>area insqft</th>\n",
       "      <th>Bhk</th>\n",
       "      <th>price(L)</th>\n",
       "    </tr>\n",
       "  </thead>\n",
       "  <tbody>\n",
       "    <tr>\n",
       "      <th>latitude</th>\n",
       "      <td>1.000000</td>\n",
       "      <td>-0.231475</td>\n",
       "      <td>-0.119787</td>\n",
       "      <td>-0.148444</td>\n",
       "      <td>-0.142999</td>\n",
       "      <td>-0.106215</td>\n",
       "    </tr>\n",
       "    <tr>\n",
       "      <th>longitude</th>\n",
       "      <td>-0.231475</td>\n",
       "      <td>1.000000</td>\n",
       "      <td>-0.073796</td>\n",
       "      <td>-0.096721</td>\n",
       "      <td>-0.118467</td>\n",
       "      <td>-0.046708</td>\n",
       "    </tr>\n",
       "    <tr>\n",
       "      <th>bathrooms</th>\n",
       "      <td>-0.119787</td>\n",
       "      <td>-0.073796</td>\n",
       "      <td>1.000000</td>\n",
       "      <td>0.718921</td>\n",
       "      <td>0.811455</td>\n",
       "      <td>0.408883</td>\n",
       "    </tr>\n",
       "    <tr>\n",
       "      <th>area insqft</th>\n",
       "      <td>-0.148444</td>\n",
       "      <td>-0.096721</td>\n",
       "      <td>0.718921</td>\n",
       "      <td>1.000000</td>\n",
       "      <td>0.741885</td>\n",
       "      <td>0.591720</td>\n",
       "    </tr>\n",
       "    <tr>\n",
       "      <th>Bhk</th>\n",
       "      <td>-0.142999</td>\n",
       "      <td>-0.118467</td>\n",
       "      <td>0.811455</td>\n",
       "      <td>0.741885</td>\n",
       "      <td>1.000000</td>\n",
       "      <td>0.413564</td>\n",
       "    </tr>\n",
       "    <tr>\n",
       "      <th>price(L)</th>\n",
       "      <td>-0.106215</td>\n",
       "      <td>-0.046708</td>\n",
       "      <td>0.408883</td>\n",
       "      <td>0.591720</td>\n",
       "      <td>0.413564</td>\n",
       "      <td>1.000000</td>\n",
       "    </tr>\n",
       "  </tbody>\n",
       "</table>\n",
       "</div>"
      ],
      "text/plain": [
       "             latitude  longitude  bathrooms  area insqft       Bhk  price(L)\n",
       "latitude     1.000000  -0.231475  -0.119787    -0.148444 -0.142999 -0.106215\n",
       "longitude   -0.231475   1.000000  -0.073796    -0.096721 -0.118467 -0.046708\n",
       "bathrooms   -0.119787  -0.073796   1.000000     0.718921  0.811455  0.408883\n",
       "area insqft -0.148444  -0.096721   0.718921     1.000000  0.741885  0.591720\n",
       "Bhk         -0.142999  -0.118467   0.811455     0.741885  1.000000  0.413564\n",
       "price(L)    -0.106215  -0.046708   0.408883     0.591720  0.413564  1.000000"
      ]
     },
     "execution_count": 108,
     "metadata": {},
     "output_type": "execute_result"
    }
   ],
   "source": [
    "df.corr()"
   ]
  },
  {
   "cell_type": "code",
   "execution_count": 109,
   "metadata": {},
   "outputs": [
    {
     "data": {
      "text/html": [
       "<div>\n",
       "<style scoped>\n",
       "    .dataframe tbody tr th:only-of-type {\n",
       "        vertical-align: middle;\n",
       "    }\n",
       "\n",
       "    .dataframe tbody tr th {\n",
       "        vertical-align: top;\n",
       "    }\n",
       "\n",
       "    .dataframe thead th {\n",
       "        text-align: right;\n",
       "    }\n",
       "</style>\n",
       "<table border=\"1\" class=\"dataframe\">\n",
       "  <thead>\n",
       "    <tr style=\"text-align: right;\">\n",
       "      <th></th>\n",
       "      <th>latitude</th>\n",
       "      <th>longitude</th>\n",
       "      <th>power backup</th>\n",
       "      <th>lift</th>\n",
       "      <th>furninture status</th>\n",
       "      <th>bathrooms</th>\n",
       "      <th>status of building</th>\n",
       "      <th>area insqft</th>\n",
       "      <th>construction status</th>\n",
       "      <th>property type</th>\n",
       "      <th>Bhk</th>\n",
       "      <th>price(L)</th>\n",
       "    </tr>\n",
       "  </thead>\n",
       "  <tbody>\n",
       "    <tr>\n",
       "      <th>0</th>\n",
       "      <td>17.403968</td>\n",
       "      <td>78.483456</td>\n",
       "      <td>yes</td>\n",
       "      <td>yes</td>\n",
       "      <td>Furnished</td>\n",
       "      <td>1</td>\n",
       "      <td>New</td>\n",
       "      <td>650</td>\n",
       "      <td>Under Construction</td>\n",
       "      <td>Apartment</td>\n",
       "      <td>1</td>\n",
       "      <td>12.00</td>\n",
       "    </tr>\n",
       "    <tr>\n",
       "      <th>1</th>\n",
       "      <td>17.463173</td>\n",
       "      <td>78.286484</td>\n",
       "      <td>yes</td>\n",
       "      <td>yes</td>\n",
       "      <td>Unfurnished</td>\n",
       "      <td>2</td>\n",
       "      <td>New</td>\n",
       "      <td>1205</td>\n",
       "      <td>Under Construction</td>\n",
       "      <td>Apartment</td>\n",
       "      <td>1</td>\n",
       "      <td>28.99</td>\n",
       "    </tr>\n",
       "    <tr>\n",
       "      <th>2</th>\n",
       "      <td>17.489849</td>\n",
       "      <td>78.293930</td>\n",
       "      <td>yes</td>\n",
       "      <td>yes</td>\n",
       "      <td>Unfurnished</td>\n",
       "      <td>2</td>\n",
       "      <td>New</td>\n",
       "      <td>1205</td>\n",
       "      <td>Under Construction</td>\n",
       "      <td>Apartment</td>\n",
       "      <td>1</td>\n",
       "      <td>28.99</td>\n",
       "    </tr>\n",
       "    <tr>\n",
       "      <th>3</th>\n",
       "      <td>17.536715</td>\n",
       "      <td>78.362610</td>\n",
       "      <td>yes</td>\n",
       "      <td>yes</td>\n",
       "      <td>Unfurnished</td>\n",
       "      <td>1</td>\n",
       "      <td>Resale</td>\n",
       "      <td>590</td>\n",
       "      <td>Ready to move</td>\n",
       "      <td>Apartment</td>\n",
       "      <td>1</td>\n",
       "      <td>17.00</td>\n",
       "    </tr>\n",
       "    <tr>\n",
       "      <th>4</th>\n",
       "      <td>17.497248</td>\n",
       "      <td>78.503426</td>\n",
       "      <td>yes</td>\n",
       "      <td>yes</td>\n",
       "      <td>Unfurnished</td>\n",
       "      <td>2</td>\n",
       "      <td>New</td>\n",
       "      <td>1205</td>\n",
       "      <td>Under Construction</td>\n",
       "      <td>Apartment</td>\n",
       "      <td>1</td>\n",
       "      <td>28.99</td>\n",
       "    </tr>\n",
       "  </tbody>\n",
       "</table>\n",
       "</div>"
      ],
      "text/plain": [
       "    latitude  longitude power backup lift furninture status  bathrooms  \\\n",
       "0  17.403968  78.483456          yes  yes         Furnished          1   \n",
       "1  17.463173  78.286484          yes  yes       Unfurnished          2   \n",
       "2  17.489849  78.293930          yes  yes       Unfurnished          2   \n",
       "3  17.536715  78.362610          yes  yes       Unfurnished          1   \n",
       "4  17.497248  78.503426          yes  yes       Unfurnished          2   \n",
       "\n",
       "  status of building  area insqft construction status property type  Bhk  \\\n",
       "0                New          650  Under Construction     Apartment    1   \n",
       "1                New         1205  Under Construction     Apartment    1   \n",
       "2                New         1205  Under Construction     Apartment    1   \n",
       "3             Resale          590       Ready to move     Apartment    1   \n",
       "4                New         1205  Under Construction     Apartment    1   \n",
       "\n",
       "   price(L)  \n",
       "0     12.00  \n",
       "1     28.99  \n",
       "2     28.99  \n",
       "3     17.00  \n",
       "4     28.99  "
      ]
     },
     "execution_count": 109,
     "metadata": {},
     "output_type": "execute_result"
    }
   ],
   "source": [
    "df.head()"
   ]
  },
  {
   "cell_type": "code",
   "execution_count": 110,
   "metadata": {},
   "outputs": [],
   "source": [
    "df = df[['latitude', 'longitude', 'power backup', 'lift',\n",
    "       'furninture status', 'bathrooms', 'status of building',\n",
    "        'area insqft', 'construction status',\n",
    "       'property type', 'Bhk','price(L)']]"
   ]
  },
  {
   "cell_type": "code",
   "execution_count": 111,
   "metadata": {},
   "outputs": [
    {
     "data": {
      "text/html": [
       "<div>\n",
       "<style scoped>\n",
       "    .dataframe tbody tr th:only-of-type {\n",
       "        vertical-align: middle;\n",
       "    }\n",
       "\n",
       "    .dataframe tbody tr th {\n",
       "        vertical-align: top;\n",
       "    }\n",
       "\n",
       "    .dataframe thead th {\n",
       "        text-align: right;\n",
       "    }\n",
       "</style>\n",
       "<table border=\"1\" class=\"dataframe\">\n",
       "  <thead>\n",
       "    <tr style=\"text-align: right;\">\n",
       "      <th></th>\n",
       "      <th>latitude</th>\n",
       "      <th>longitude</th>\n",
       "      <th>power backup</th>\n",
       "      <th>lift</th>\n",
       "      <th>furninture status</th>\n",
       "      <th>bathrooms</th>\n",
       "      <th>status of building</th>\n",
       "      <th>area insqft</th>\n",
       "      <th>construction status</th>\n",
       "      <th>property type</th>\n",
       "      <th>Bhk</th>\n",
       "      <th>price(L)</th>\n",
       "    </tr>\n",
       "  </thead>\n",
       "  <tbody>\n",
       "    <tr>\n",
       "      <th>0</th>\n",
       "      <td>17.403968</td>\n",
       "      <td>78.483456</td>\n",
       "      <td>yes</td>\n",
       "      <td>yes</td>\n",
       "      <td>Furnished</td>\n",
       "      <td>1</td>\n",
       "      <td>New</td>\n",
       "      <td>650</td>\n",
       "      <td>Under Construction</td>\n",
       "      <td>Apartment</td>\n",
       "      <td>1</td>\n",
       "      <td>12.0</td>\n",
       "    </tr>\n",
       "  </tbody>\n",
       "</table>\n",
       "</div>"
      ],
      "text/plain": [
       "    latitude  longitude power backup lift furninture status  bathrooms  \\\n",
       "0  17.403968  78.483456          yes  yes         Furnished          1   \n",
       "\n",
       "  status of building  area insqft construction status property type  Bhk  \\\n",
       "0                New          650  Under Construction     Apartment    1   \n",
       "\n",
       "   price(L)  \n",
       "0      12.0  "
      ]
     },
     "execution_count": 111,
     "metadata": {},
     "output_type": "execute_result"
    }
   ],
   "source": [
    "df.head(1)"
   ]
  },
  {
   "cell_type": "code",
   "execution_count": 112,
   "metadata": {},
   "outputs": [],
   "source": [
    "df1=pd.get_dummies(df, drop_first= True)"
   ]
  },
  {
   "cell_type": "code",
   "execution_count": 113,
   "metadata": {},
   "outputs": [
    {
     "data": {
      "text/html": [
       "<div>\n",
       "<style scoped>\n",
       "    .dataframe tbody tr th:only-of-type {\n",
       "        vertical-align: middle;\n",
       "    }\n",
       "\n",
       "    .dataframe tbody tr th {\n",
       "        vertical-align: top;\n",
       "    }\n",
       "\n",
       "    .dataframe thead th {\n",
       "        text-align: right;\n",
       "    }\n",
       "</style>\n",
       "<table border=\"1\" class=\"dataframe\">\n",
       "  <thead>\n",
       "    <tr style=\"text-align: right;\">\n",
       "      <th></th>\n",
       "      <th>latitude</th>\n",
       "      <th>longitude</th>\n",
       "      <th>bathrooms</th>\n",
       "      <th>area insqft</th>\n",
       "      <th>Bhk</th>\n",
       "      <th>price(L)</th>\n",
       "      <th>furninture status_Semi-Furnished</th>\n",
       "      <th>furninture status_Unfurnished</th>\n",
       "      <th>status of building_Resale</th>\n",
       "      <th>construction status_Under Construction</th>\n",
       "      <th>property type_IndependentFloor</th>\n",
       "      <th>property type_IndependentHouse</th>\n",
       "      <th>property type_Penthouse</th>\n",
       "      <th>property type_Studio</th>\n",
       "      <th>property type_Villa</th>\n",
       "    </tr>\n",
       "  </thead>\n",
       "  <tbody>\n",
       "    <tr>\n",
       "      <th>0</th>\n",
       "      <td>17.403968</td>\n",
       "      <td>78.483456</td>\n",
       "      <td>1</td>\n",
       "      <td>650</td>\n",
       "      <td>1</td>\n",
       "      <td>12.00</td>\n",
       "      <td>0</td>\n",
       "      <td>0</td>\n",
       "      <td>0</td>\n",
       "      <td>1</td>\n",
       "      <td>0</td>\n",
       "      <td>0</td>\n",
       "      <td>0</td>\n",
       "      <td>0</td>\n",
       "      <td>0</td>\n",
       "    </tr>\n",
       "    <tr>\n",
       "      <th>1</th>\n",
       "      <td>17.463173</td>\n",
       "      <td>78.286484</td>\n",
       "      <td>2</td>\n",
       "      <td>1205</td>\n",
       "      <td>1</td>\n",
       "      <td>28.99</td>\n",
       "      <td>0</td>\n",
       "      <td>1</td>\n",
       "      <td>0</td>\n",
       "      <td>1</td>\n",
       "      <td>0</td>\n",
       "      <td>0</td>\n",
       "      <td>0</td>\n",
       "      <td>0</td>\n",
       "      <td>0</td>\n",
       "    </tr>\n",
       "    <tr>\n",
       "      <th>2</th>\n",
       "      <td>17.489849</td>\n",
       "      <td>78.293930</td>\n",
       "      <td>2</td>\n",
       "      <td>1205</td>\n",
       "      <td>1</td>\n",
       "      <td>28.99</td>\n",
       "      <td>0</td>\n",
       "      <td>1</td>\n",
       "      <td>0</td>\n",
       "      <td>1</td>\n",
       "      <td>0</td>\n",
       "      <td>0</td>\n",
       "      <td>0</td>\n",
       "      <td>0</td>\n",
       "      <td>0</td>\n",
       "    </tr>\n",
       "    <tr>\n",
       "      <th>3</th>\n",
       "      <td>17.536715</td>\n",
       "      <td>78.362610</td>\n",
       "      <td>1</td>\n",
       "      <td>590</td>\n",
       "      <td>1</td>\n",
       "      <td>17.00</td>\n",
       "      <td>0</td>\n",
       "      <td>1</td>\n",
       "      <td>1</td>\n",
       "      <td>0</td>\n",
       "      <td>0</td>\n",
       "      <td>0</td>\n",
       "      <td>0</td>\n",
       "      <td>0</td>\n",
       "      <td>0</td>\n",
       "    </tr>\n",
       "    <tr>\n",
       "      <th>4</th>\n",
       "      <td>17.497248</td>\n",
       "      <td>78.503426</td>\n",
       "      <td>2</td>\n",
       "      <td>1205</td>\n",
       "      <td>1</td>\n",
       "      <td>28.99</td>\n",
       "      <td>0</td>\n",
       "      <td>1</td>\n",
       "      <td>0</td>\n",
       "      <td>1</td>\n",
       "      <td>0</td>\n",
       "      <td>0</td>\n",
       "      <td>0</td>\n",
       "      <td>0</td>\n",
       "      <td>0</td>\n",
       "    </tr>\n",
       "  </tbody>\n",
       "</table>\n",
       "</div>"
      ],
      "text/plain": [
       "    latitude  longitude  bathrooms  area insqft  Bhk  price(L)  \\\n",
       "0  17.403968  78.483456          1          650    1     12.00   \n",
       "1  17.463173  78.286484          2         1205    1     28.99   \n",
       "2  17.489849  78.293930          2         1205    1     28.99   \n",
       "3  17.536715  78.362610          1          590    1     17.00   \n",
       "4  17.497248  78.503426          2         1205    1     28.99   \n",
       "\n",
       "   furninture status_Semi-Furnished  furninture status_Unfurnished  \\\n",
       "0                                 0                              0   \n",
       "1                                 0                              1   \n",
       "2                                 0                              1   \n",
       "3                                 0                              1   \n",
       "4                                 0                              1   \n",
       "\n",
       "   status of building_Resale  construction status_Under Construction  \\\n",
       "0                          0                                       1   \n",
       "1                          0                                       1   \n",
       "2                          0                                       1   \n",
       "3                          1                                       0   \n",
       "4                          0                                       1   \n",
       "\n",
       "   property type_IndependentFloor  property type_IndependentHouse  \\\n",
       "0                               0                               0   \n",
       "1                               0                               0   \n",
       "2                               0                               0   \n",
       "3                               0                               0   \n",
       "4                               0                               0   \n",
       "\n",
       "   property type_Penthouse  property type_Studio  property type_Villa  \n",
       "0                        0                     0                    0  \n",
       "1                        0                     0                    0  \n",
       "2                        0                     0                    0  \n",
       "3                        0                     0                    0  \n",
       "4                        0                     0                    0  "
      ]
     },
     "execution_count": 113,
     "metadata": {},
     "output_type": "execute_result"
    }
   ],
   "source": [
    "df1.head(5)"
   ]
  },
  {
   "cell_type": "code",
   "execution_count": 114,
   "metadata": {},
   "outputs": [
    {
     "data": {
      "text/plain": [
       "(13597, 15)"
      ]
     },
     "execution_count": 114,
     "metadata": {},
     "output_type": "execute_result"
    }
   ],
   "source": [
    "df1.shape"
   ]
  },
  {
   "cell_type": "code",
   "execution_count": 115,
   "metadata": {},
   "outputs": [
    {
     "data": {
      "text/plain": [
       "15"
      ]
     },
     "execution_count": 115,
     "metadata": {},
     "output_type": "execute_result"
    }
   ],
   "source": [
    "len(df1.columns)"
   ]
  },
  {
   "cell_type": "markdown",
   "metadata": {},
   "source": [
    "# Build a Model"
   ]
  },
  {
   "cell_type": "code",
   "execution_count": 116,
   "metadata": {},
   "outputs": [],
   "source": [
    "df1.rename(columns={'area insqft': 'areainsqft',\n",
    "                   'furninture status_Semi-Furnished' :'furniture_Semi',\n",
    "                   'furninture status_Unfurnished' :'furniture_Unfurnished',\n",
    "                   'status of building_Resale': 'building_Resale',\n",
    "                   'construction status_Under Construction' : 'Under_Construction',\n",
    "                   'property type_IndependentFloor' : 'IndependentFloor',\n",
    "                   'property type_IndependentHouse' : 'IndependentHouse',\n",
    "                   'property type_Penthouse' : 'Penthouse',\n",
    "                   'property type_Studio' : 'Studio',\n",
    "                   'property type_Villa'  : 'Villa',\n",
    "                   'price(L)' : 'price'},inplace=True)\n",
    "\n"
   ]
  },
  {
   "cell_type": "code",
   "execution_count": 117,
   "metadata": {},
   "outputs": [
    {
     "data": {
      "text/html": [
       "<div>\n",
       "<style scoped>\n",
       "    .dataframe tbody tr th:only-of-type {\n",
       "        vertical-align: middle;\n",
       "    }\n",
       "\n",
       "    .dataframe tbody tr th {\n",
       "        vertical-align: top;\n",
       "    }\n",
       "\n",
       "    .dataframe thead th {\n",
       "        text-align: right;\n",
       "    }\n",
       "</style>\n",
       "<table border=\"1\" class=\"dataframe\">\n",
       "  <thead>\n",
       "    <tr style=\"text-align: right;\">\n",
       "      <th></th>\n",
       "      <th>latitude</th>\n",
       "      <th>longitude</th>\n",
       "      <th>bathrooms</th>\n",
       "      <th>areainsqft</th>\n",
       "      <th>Bhk</th>\n",
       "      <th>price</th>\n",
       "      <th>furniture_Semi</th>\n",
       "      <th>furniture_Unfurnished</th>\n",
       "      <th>building_Resale</th>\n",
       "      <th>Under_Construction</th>\n",
       "      <th>IndependentFloor</th>\n",
       "      <th>IndependentHouse</th>\n",
       "      <th>Penthouse</th>\n",
       "      <th>Studio</th>\n",
       "      <th>Villa</th>\n",
       "    </tr>\n",
       "  </thead>\n",
       "  <tbody>\n",
       "    <tr>\n",
       "      <th>0</th>\n",
       "      <td>17.403968</td>\n",
       "      <td>78.483456</td>\n",
       "      <td>1</td>\n",
       "      <td>650</td>\n",
       "      <td>1</td>\n",
       "      <td>12.00</td>\n",
       "      <td>0</td>\n",
       "      <td>0</td>\n",
       "      <td>0</td>\n",
       "      <td>1</td>\n",
       "      <td>0</td>\n",
       "      <td>0</td>\n",
       "      <td>0</td>\n",
       "      <td>0</td>\n",
       "      <td>0</td>\n",
       "    </tr>\n",
       "    <tr>\n",
       "      <th>1</th>\n",
       "      <td>17.463173</td>\n",
       "      <td>78.286484</td>\n",
       "      <td>2</td>\n",
       "      <td>1205</td>\n",
       "      <td>1</td>\n",
       "      <td>28.99</td>\n",
       "      <td>0</td>\n",
       "      <td>1</td>\n",
       "      <td>0</td>\n",
       "      <td>1</td>\n",
       "      <td>0</td>\n",
       "      <td>0</td>\n",
       "      <td>0</td>\n",
       "      <td>0</td>\n",
       "      <td>0</td>\n",
       "    </tr>\n",
       "    <tr>\n",
       "      <th>2</th>\n",
       "      <td>17.489849</td>\n",
       "      <td>78.293930</td>\n",
       "      <td>2</td>\n",
       "      <td>1205</td>\n",
       "      <td>1</td>\n",
       "      <td>28.99</td>\n",
       "      <td>0</td>\n",
       "      <td>1</td>\n",
       "      <td>0</td>\n",
       "      <td>1</td>\n",
       "      <td>0</td>\n",
       "      <td>0</td>\n",
       "      <td>0</td>\n",
       "      <td>0</td>\n",
       "      <td>0</td>\n",
       "    </tr>\n",
       "  </tbody>\n",
       "</table>\n",
       "</div>"
      ],
      "text/plain": [
       "    latitude  longitude  bathrooms  areainsqft  Bhk  price  furniture_Semi  \\\n",
       "0  17.403968  78.483456          1         650    1  12.00               0   \n",
       "1  17.463173  78.286484          2        1205    1  28.99               0   \n",
       "2  17.489849  78.293930          2        1205    1  28.99               0   \n",
       "\n",
       "   furniture_Unfurnished  building_Resale  Under_Construction  \\\n",
       "0                      0                0                   1   \n",
       "1                      1                0                   1   \n",
       "2                      1                0                   1   \n",
       "\n",
       "   IndependentFloor  IndependentHouse  Penthouse  Studio  Villa  \n",
       "0                 0                 0          0       0      0  \n",
       "1                 0                 0          0       0      0  \n",
       "2                 0                 0          0       0      0  "
      ]
     },
     "execution_count": 117,
     "metadata": {},
     "output_type": "execute_result"
    }
   ],
   "source": [
    "df1.head(3)"
   ]
  },
  {
   "cell_type": "code",
   "execution_count": 118,
   "metadata": {},
   "outputs": [
    {
     "data": {
      "text/plain": [
       "Index(['latitude', 'longitude', 'bathrooms', 'areainsqft', 'Bhk', 'price',\n",
       "       'furniture_Semi', 'furniture_Unfurnished', 'building_Resale',\n",
       "       'Under_Construction', 'IndependentFloor', 'IndependentHouse',\n",
       "       'Penthouse', 'Studio', 'Villa'],\n",
       "      dtype='object')"
      ]
     },
     "execution_count": 118,
     "metadata": {},
     "output_type": "execute_result"
    }
   ],
   "source": [
    "df1.columns"
   ]
  },
  {
   "cell_type": "code",
   "execution_count": 119,
   "metadata": {},
   "outputs": [],
   "source": [
    "import statsmodels.api as sm\n",
    "from sklearn.linear_model import LinearRegression"
   ]
  },
  {
   "cell_type": "code",
   "execution_count": 120,
   "metadata": {},
   "outputs": [
    {
     "name": "stdout",
     "output_type": "stream",
     "text": [
      "                            OLS Regression Results                            \n",
      "==============================================================================\n",
      "Dep. Variable:                  price   R-squared:                       0.357\n",
      "Model:                            OLS   Adj. R-squared:                  0.356\n",
      "Method:                 Least Squares   F-statistic:                     538.6\n",
      "Date:                Tue, 12 Nov 2019   Prob (F-statistic):               0.00\n",
      "Time:                        22:35:42   Log-Likelihood:                -85463.\n",
      "No. Observations:               13597   AIC:                         1.710e+05\n",
      "Df Residuals:                   13582   BIC:                         1.711e+05\n",
      "Df Model:                          14                                         \n",
      "Covariance Type:            nonrobust                                         \n",
      "=========================================================================================\n",
      "                            coef    std err          t      P>|t|      [0.025      0.975]\n",
      "-----------------------------------------------------------------------------------------\n",
      "Intercept              2196.1664    986.109      2.227      0.026     263.256    4129.077\n",
      "latitude                -45.7829     16.847     -2.717      0.007     -78.806     -12.759\n",
      "longitude               -18.3264     11.121     -1.648      0.099     -40.124       3.472\n",
      "bathrooms                -2.5146      2.087     -1.205      0.228      -6.606       1.577\n",
      "Bhk                      -8.1241      2.344     -3.467      0.001     -12.718      -3.531\n",
      "areainsqft                0.0966      0.002     54.125      0.000       0.093       0.100\n",
      "furniture_Semi           -6.6014      4.711     -1.401      0.161     -15.836       2.633\n",
      "furniture_Unfurnished    -4.5367      4.512     -1.005      0.315     -13.381       4.307\n",
      "building_Resale          15.9566      2.953      5.403      0.000      10.168      21.745\n",
      "Under_Construction       -3.6104      2.559     -1.411      0.158      -8.627       1.406\n",
      "IndependentFloor         17.8350     11.345      1.572      0.116      -4.404      40.074\n",
      "IndependentHouse         -0.0935      3.772     -0.025      0.980      -7.487       7.300\n",
      "Penthouse               -21.7863     46.036     -0.473      0.636    -112.022      68.450\n",
      "Studio                   -8.4378     49.217     -0.171      0.864    -104.910      88.035\n",
      "Villa                    32.4446      4.334      7.486      0.000      23.949      40.940\n",
      "==============================================================================\n",
      "Omnibus:                    38469.116   Durbin-Watson:                   1.969\n",
      "Prob(Omnibus):                  0.000   Jarque-Bera (JB):       2035819317.870\n",
      "Skew:                          37.382   Prob(JB):                         0.00\n",
      "Kurtosis:                    1897.156   Cond. No.                     1.79e+06\n",
      "==============================================================================\n",
      "\n",
      "Warnings:\n",
      "[1] Standard Errors assume that the covariance matrix of the errors is correctly specified.\n",
      "[2] The condition number is large, 1.79e+06. This might indicate that there are\n",
      "strong multicollinearity or other numerical problems.\n"
     ]
    }
   ],
   "source": [
    "# model with all features\n",
    "# y=using stats model\n",
    "model_all=sm.OLS.from_formula('price~latitude+longitude+bathrooms+Bhk+areainsqft+furniture_Semi+furniture_Unfurnished+building_Resale+Under_Construction+IndependentFloor+IndependentHouse+Penthouse+Studio+Villa',data=df1).fit()\n",
    "print(model_all.summary())"
   ]
  },
  {
   "cell_type": "code",
   "execution_count": 121,
   "metadata": {},
   "outputs": [
    {
     "data": {
      "text/plain": [
       "Index(['latitude', 'longitude', 'bathrooms', 'areainsqft', 'Bhk', 'price',\n",
       "       'furniture_Semi', 'furniture_Unfurnished', 'building_Resale',\n",
       "       'Under_Construction', 'IndependentFloor', 'IndependentHouse',\n",
       "       'Penthouse', 'Studio', 'Villa'],\n",
       "      dtype='object')"
      ]
     },
     "execution_count": 121,
     "metadata": {},
     "output_type": "execute_result"
    }
   ],
   "source": [
    "df1.columns"
   ]
  },
  {
   "cell_type": "code",
   "execution_count": 122,
   "metadata": {},
   "outputs": [],
   "source": [
    "data = df1[['latitude', 'longitude', 'bathrooms', 'areainsqft',\n",
    "       'Bhk','furniture_Semi','furniture_Unfurnished', 'building_Resale',\n",
    "       'Under_Construction', 'IndependentFloor', 'IndependentHouse',\n",
    "       'Penthouse', 'Studio', 'Villa','price',]]"
   ]
  },
  {
   "cell_type": "code",
   "execution_count": 123,
   "metadata": {},
   "outputs": [
    {
     "data": {
      "text/plain": [
       "(13597, 15)"
      ]
     },
     "execution_count": 123,
     "metadata": {},
     "output_type": "execute_result"
    }
   ],
   "source": [
    "data.shape"
   ]
  },
  {
   "cell_type": "code",
   "execution_count": 124,
   "metadata": {},
   "outputs": [],
   "source": [
    "X = data.iloc[:,:14]\n",
    "Y = data.iloc[:,-1] "
   ]
  },
  {
   "cell_type": "code",
   "execution_count": 125,
   "metadata": {},
   "outputs": [
    {
     "data": {
      "text/plain": [
       "((13597,), (13597, 14))"
      ]
     },
     "execution_count": 125,
     "metadata": {},
     "output_type": "execute_result"
    }
   ],
   "source": [
    "Y.shape,X.shape"
   ]
  },
  {
   "cell_type": "code",
   "execution_count": 126,
   "metadata": {},
   "outputs": [
    {
     "name": "stdout",
     "output_type": "stream",
     "text": [
      "Optimum number of features: 14\n",
      "Score with 14 features: 0.515602\n"
     ]
    }
   ],
   "source": [
    "#no of features\n",
    "nof_list=np.arange(1,15)            \n",
    "high_score=0\n",
    "#Variable to store the optimum features\n",
    "nof=0           \n",
    "score_list =[]\n",
    "for n in range(len(nof_list)):\n",
    "    X_train, X_test, y_train, y_test = train_test_split(X,Y, test_size = 0.2, random_state = 0)\n",
    "    model = LinearRegression()\n",
    "    rfe = RFE(model,nof_list[n])\n",
    "    X_train_rfe = rfe.fit_transform(X_train,y_train)\n",
    "    X_test_rfe = rfe.transform(X_test)\n",
    "    model.fit(X_train_rfe,y_train)\n",
    "    score = model.score(X_test_rfe,y_test)\n",
    "    score_list.append(score)\n",
    "    if(score>high_score):\n",
    "        high_score = score\n",
    "        nof = nof_list[n]\n",
    "print(\"Optimum number of features: %d\" %nof)\n",
    "print(\"Score with %d features: %f\" % (nof, high_score))"
   ]
  },
  {
   "cell_type": "code",
   "execution_count": 127,
   "metadata": {},
   "outputs": [
    {
     "name": "stdout",
     "output_type": "stream",
     "text": [
      "Best alpha using built-in LassoCV: 97.551175\n",
      "Best score using built-in LassoCV: 0.350132\n"
     ]
    }
   ],
   "source": [
    "reg = LassoCV()\n",
    "reg.fit(X, Y)\n",
    "print(\"Best alpha using built-in LassoCV: %f\" % reg.alpha_)\n",
    "print(\"Best score using built-in LassoCV: %f\" %reg.score(X,Y))\n",
    "coef = pd.Series(reg.coef_, index = X.columns)"
   ]
  },
  {
   "cell_type": "code",
   "execution_count": 128,
   "metadata": {},
   "outputs": [
    {
     "name": "stdout",
     "output_type": "stream",
     "text": [
      "Lasso picked 1 variables and eliminated the other 13 variables\n"
     ]
    }
   ],
   "source": [
    "print(\"Lasso picked \" + str(sum(coef != 0)) + \" variables and eliminated the other \" +  str(sum(coef == 0)) + \" variables\")"
   ]
  },
  {
   "cell_type": "code",
   "execution_count": 129,
   "metadata": {},
   "outputs": [
    {
     "data": {
      "text/plain": [
       "Text(0.5, 1.0, 'Feature importance using Lasso Model')"
      ]
     },
     "execution_count": 129,
     "metadata": {},
     "output_type": "execute_result"
    },
    {
     "data": {
      "image/png": "[encoded data removed]",
      "text/plain": [
       "<Figure size 576x720 with 1 Axes>"
      ]
     },
     "metadata": {
      "needs_background": "light"
     },
     "output_type": "display_data"
    }
   ],
   "source": [
    "imp_coef = coef.sort_values()\n",
    "import matplotlib\n",
    "matplotlib.rcParams['figure.figsize'] = (8.0, 10.0)\n",
    "imp_coef.plot(kind = \"barh\")\n",
    "plt.title(\"Feature importance using Lasso Model\")"
   ]
  },
  {
   "cell_type": "code",
   "execution_count": 130,
   "metadata": {},
   "outputs": [],
   "source": [
    "x2=X"
   ]
  },
  {
   "cell_type": "code",
   "execution_count": 131,
   "metadata": {},
   "outputs": [
    {
     "data": {
      "text/plain": [
       "(13597, 14)"
      ]
     },
     "execution_count": 131,
     "metadata": {},
     "output_type": "execute_result"
    }
   ],
   "source": [
    "x2.shape"
   ]
  },
  {
   "cell_type": "markdown",
   "metadata": {},
   "source": [
    "# Feature Engineering\n",
    "- backward elimination\n",
    "- build full model and drop p-values(>0.025)"
   ]
  },
  {
   "cell_type": "code",
   "execution_count": 132,
   "metadata": {},
   "outputs": [
    {
     "data": {
      "text/html": [
       "<div>\n",
       "<style scoped>\n",
       "    .dataframe tbody tr th:only-of-type {\n",
       "        vertical-align: middle;\n",
       "    }\n",
       "\n",
       "    .dataframe tbody tr th {\n",
       "        vertical-align: top;\n",
       "    }\n",
       "\n",
       "    .dataframe thead th {\n",
       "        text-align: right;\n",
       "    }\n",
       "</style>\n",
       "<table border=\"1\" class=\"dataframe\">\n",
       "  <thead>\n",
       "    <tr style=\"text-align: right;\">\n",
       "      <th></th>\n",
       "      <th>latitude</th>\n",
       "      <th>longitude</th>\n",
       "      <th>bathrooms</th>\n",
       "      <th>areainsqft</th>\n",
       "      <th>Bhk</th>\n",
       "      <th>furniture_Semi</th>\n",
       "      <th>furniture_Unfurnished</th>\n",
       "      <th>building_Resale</th>\n",
       "      <th>Under_Construction</th>\n",
       "      <th>IndependentFloor</th>\n",
       "      <th>IndependentHouse</th>\n",
       "      <th>Penthouse</th>\n",
       "      <th>Studio</th>\n",
       "      <th>Villa</th>\n",
       "    </tr>\n",
       "  </thead>\n",
       "  <tbody>\n",
       "    <tr>\n",
       "      <th>0</th>\n",
       "      <td>17.403968</td>\n",
       "      <td>78.483456</td>\n",
       "      <td>1</td>\n",
       "      <td>650</td>\n",
       "      <td>1</td>\n",
       "      <td>0</td>\n",
       "      <td>0</td>\n",
       "      <td>0</td>\n",
       "      <td>1</td>\n",
       "      <td>0</td>\n",
       "      <td>0</td>\n",
       "      <td>0</td>\n",
       "      <td>0</td>\n",
       "      <td>0</td>\n",
       "    </tr>\n",
       "  </tbody>\n",
       "</table>\n",
       "</div>"
      ],
      "text/plain": [
       "    latitude  longitude  bathrooms  areainsqft  Bhk  furniture_Semi  \\\n",
       "0  17.403968  78.483456          1         650    1               0   \n",
       "\n",
       "   furniture_Unfurnished  building_Resale  Under_Construction  \\\n",
       "0                      0                0                   1   \n",
       "\n",
       "   IndependentFloor  IndependentHouse  Penthouse  Studio  Villa  \n",
       "0                 0                 0          0       0      0  "
      ]
     },
     "execution_count": 132,
     "metadata": {},
     "output_type": "execute_result"
    }
   ],
   "source": [
    "Xnew=x2\n",
    "Xnew.head(1)"
   ]
  },
  {
   "cell_type": "code",
   "execution_count": 133,
   "metadata": {},
   "outputs": [
    {
     "name": "stdout",
     "output_type": "stream",
     "text": [
      "                                 OLS Regression Results                                \n",
      "=======================================================================================\n",
      "Dep. Variable:                  price   R-squared (uncentered):                   0.537\n",
      "Model:                            OLS   Adj. R-squared (uncentered):              0.537\n",
      "Method:                 Least Squares   F-statistic:                              3157.\n",
      "Date:                Tue, 12 Nov 2019   Prob (F-statistic):                        0.00\n",
      "Time:                        22:35:44   Log-Likelihood:                         -85471.\n",
      "No. Observations:               13597   AIC:                                  1.710e+05\n",
      "Df Residuals:                   13592   BIC:                                  1.710e+05\n",
      "Df Model:                           5                                                  \n",
      "Covariance Type:            nonrobust                                                  \n",
      "===================================================================================\n",
      "                      coef    std err          t      P>|t|      [0.025      0.975]\n",
      "-----------------------------------------------------------------------------------\n",
      "latitude           -2.8323      0.208    -13.631      0.000      -3.240      -2.425\n",
      "areainsqft          0.0967      0.002     56.694      0.000       0.093       0.100\n",
      "Bhk                -9.4763      1.857     -5.102      0.000     -13.117      -5.836\n",
      "building_Resale    16.8580      2.532      6.657      0.000      11.894      21.822\n",
      "Villa              31.6779      4.247      7.460      0.000      23.354      40.002\n",
      "==============================================================================\n",
      "Omnibus:                    38448.604   Durbin-Watson:                   1.968\n",
      "Prob(Omnibus):                  0.000   Jarque-Bera (JB):       2028325060.326\n",
      "Skew:                          37.329   Prob(JB):                         0.00\n",
      "Kurtosis:                    1893.665   Cond. No.                     7.69e+03\n",
      "==============================================================================\n",
      "\n",
      "Warnings:\n",
      "[1] Standard Errors assume that the covariance matrix of the errors is correctly specified.\n",
      "[2] The condition number is large, 7.69e+03. This might indicate that there are\n",
      "strong multicollinearity or other numerical problems.\n"
     ]
    }
   ],
   "source": [
    "model=sm.OLS(Y,Xnew).fit()\n",
    "while model.pvalues.sort_values(ascending=False)[0]>=0.025:\n",
    "    model=sm.OLS(Y,Xnew).fit()\n",
    "    high=model.pvalues.sort_values(ascending=False).index[0]\n",
    "    Xnew.drop(high,axis=1,inplace=True)\n",
    "print(model.summary())"
   ]
  },
  {
   "cell_type": "code",
   "execution_count": 134,
   "metadata": {},
   "outputs": [],
   "source": [
    "from statsmodels.stats.outliers_influence import variance_inflation_factor"
   ]
  },
  {
   "cell_type": "code",
   "execution_count": 135,
   "metadata": {},
   "outputs": [
    {
     "data": {
      "text/html": [
       "<div>\n",
       "<style scoped>\n",
       "    .dataframe tbody tr th:only-of-type {\n",
       "        vertical-align: middle;\n",
       "    }\n",
       "\n",
       "    .dataframe tbody tr th {\n",
       "        vertical-align: top;\n",
       "    }\n",
       "\n",
       "    .dataframe thead th {\n",
       "        text-align: right;\n",
       "    }\n",
       "</style>\n",
       "<table border=\"1\" class=\"dataframe\">\n",
       "  <thead>\n",
       "    <tr style=\"text-align: right;\">\n",
       "      <th></th>\n",
       "      <th>features</th>\n",
       "      <th>VIF Score</th>\n",
       "    </tr>\n",
       "  </thead>\n",
       "  <tbody>\n",
       "    <tr>\n",
       "      <th>0</th>\n",
       "      <td>latitude</td>\n",
       "      <td>4.381790</td>\n",
       "    </tr>\n",
       "    <tr>\n",
       "      <th>1</th>\n",
       "      <td>areainsqft</td>\n",
       "      <td>4.648419</td>\n",
       "    </tr>\n",
       "    <tr>\n",
       "      <th>2</th>\n",
       "      <td>building_Resale</td>\n",
       "      <td>1.359487</td>\n",
       "    </tr>\n",
       "    <tr>\n",
       "      <th>3</th>\n",
       "      <td>Villa</td>\n",
       "      <td>1.303539</td>\n",
       "    </tr>\n",
       "  </tbody>\n",
       "</table>\n",
       "</div>"
      ],
      "text/plain": [
       "          features  VIF Score\n",
       "0         latitude   4.381790\n",
       "1       areainsqft   4.648419\n",
       "2  building_Resale   1.359487\n",
       "3            Villa   1.303539"
      ]
     },
     "execution_count": 135,
     "metadata": {},
     "output_type": "execute_result"
    }
   ],
   "source": [
    "vif= pd.DataFrame()\n",
    "vif['features']=Xnew.keys()\n",
    "vif['VIF Score']=[variance_inflation_factor(Xnew.values,i) for i in range(4)]\n",
    "vif"
   ]
  },
  {
   "cell_type": "markdown",
   "metadata": {},
   "source": [
    "# Sci-Kit Learn"
   ]
  },
  {
   "cell_type": "code",
   "execution_count": 136,
   "metadata": {},
   "outputs": [],
   "source": [
    "# splitting data into two parts : training and testing\n",
    "from sklearn.model_selection import train_test_split\n",
    "x_train,x_test,y_train,y_test=train_test_split(Xnew,Y,test_size=0.2)"
   ]
  },
  {
   "cell_type": "code",
   "execution_count": 137,
   "metadata": {},
   "outputs": [
    {
     "data": {
      "text/plain": [
       "((10877, 4), (2720, 4), (10877,), (2720,))"
      ]
     },
     "execution_count": 137,
     "metadata": {},
     "output_type": "execute_result"
    }
   ],
   "source": [
    "x_train.shape,x_test.shape,y_train.shape,y_test.shape"
   ]
  },
  {
   "cell_type": "code",
   "execution_count": 138,
   "metadata": {},
   "outputs": [],
   "source": [
    "# Training model with training data\n",
    "from sklearn.linear_model import LinearRegression"
   ]
  },
  {
   "cell_type": "code",
   "execution_count": 139,
   "metadata": {},
   "outputs": [],
   "source": [
    "model=LinearRegression()"
   ]
  },
  {
   "cell_type": "code",
   "execution_count": 140,
   "metadata": {},
   "outputs": [
    {
     "data": {
      "text/plain": [
       "LinearRegression(copy_X=True, fit_intercept=True, n_jobs=None, normalize=False)"
      ]
     },
     "execution_count": 140,
     "metadata": {},
     "output_type": "execute_result"
    }
   ],
   "source": [
    "model.fit(x_train,y_train)"
   ]
  },
  {
   "cell_type": "code",
   "execution_count": 141,
   "metadata": {},
   "outputs": [],
   "source": [
    "y_pred=model.predict(x_test)"
   ]
  },
  {
   "cell_type": "code",
   "execution_count": 142,
   "metadata": {},
   "outputs": [
    {
     "data": {
      "text/plain": [
       "array([110.93971184, 186.45762428, 153.66568698, ...,  68.2104952 ,\n",
       "        54.12921242,  87.41779798])"
      ]
     },
     "execution_count": 142,
     "metadata": {},
     "output_type": "execute_result"
    }
   ],
   "source": [
    "y_pred"
   ]
  },
  {
   "cell_type": "code",
   "execution_count": 143,
   "metadata": {},
   "outputs": [
    {
     "data": {
      "text/plain": [
       "(705.056211657067,\n",
       " array([-44.21213222,   0.09224541,  18.51744244,  34.7620814 ]))"
      ]
     },
     "execution_count": 143,
     "metadata": {},
     "output_type": "execute_result"
    }
   ],
   "source": [
    "model.intercept_,model.coef_"
   ]
  },
  {
   "cell_type": "markdown",
   "metadata": {},
   "source": [
    "**ANNOVA(Analysis of Variance)**\n",
    "> F_statistics = $\\frac{\\frac{ssr}{dfssr}}{\\frac{sse}{dfsse}}$\n",
    "- dfssr=k\n",
    "- dfsse=n-1-k\n",
    "- ssr=sum(y_pred-y_pred.mean)\n",
    "- sse=sum(y_pred-y_actual)^2\n",
    "- n=no. of samples\n",
    "- k=no. of independent values"
   ]
  },
  {
   "cell_type": "code",
   "execution_count": 144,
   "metadata": {},
   "outputs": [],
   "source": [
    "# Always test data\n",
    "n = len(x_test)\n",
    "k = x_test.shape[1]\n",
    "df_ssr = k\n",
    "df_sse = n-k-1"
   ]
  },
  {
   "cell_type": "code",
   "execution_count": 145,
   "metadata": {},
   "outputs": [],
   "source": [
    "# Annova\n",
    "ssr = np.sum((np.square(y_pred-y_pred.mean())))"
   ]
  },
  {
   "cell_type": "code",
   "execution_count": 146,
   "metadata": {},
   "outputs": [],
   "source": [
    "sse = np.sum((np.square(y_pred-y_test)))"
   ]
  },
  {
   "cell_type": "code",
   "execution_count": 147,
   "metadata": {},
   "outputs": [],
   "source": [
    "sst = sse+ssr\n",
    "#sst = np.sum((np.square(y_test-y_test.mean())))"
   ]
  },
  {
   "cell_type": "code",
   "execution_count": 148,
   "metadata": {},
   "outputs": [
    {
     "data": {
      "text/plain": [
       "(27679130.22562272, 11297220.807079637, 38976351.03270236)"
      ]
     },
     "execution_count": 148,
     "metadata": {},
     "output_type": "execute_result"
    }
   ],
   "source": [
    "ssr,sse,sst"
   ]
  },
  {
   "cell_type": "markdown",
   "metadata": {},
   "source": [
    "$ R^2$\n",
    "- Explained Variance"
   ]
  },
  {
   "cell_type": "code",
   "execution_count": 149,
   "metadata": {},
   "outputs": [
    {
     "data": {
      "text/plain": [
       "0.7101519124352887"
      ]
     },
     "execution_count": 149,
     "metadata": {},
     "output_type": "execute_result"
    }
   ],
   "source": [
    "rsquare = ssr/sst\n",
    "rsquare"
   ]
  },
  {
   "cell_type": "markdown",
   "metadata": {},
   "source": [
    "## Fstats"
   ]
  },
  {
   "cell_type": "code",
   "execution_count": 150,
   "metadata": {},
   "outputs": [
    {
     "data": {
      "text/plain": [
       "1662.9939311151668"
      ]
     },
     "execution_count": 150,
     "metadata": {},
     "output_type": "execute_result"
    }
   ],
   "source": [
    "Fstats = (ssr/df_ssr)/(sse/df_sse)\n",
    "Fstats"
   ]
  },
  {
   "cell_type": "code",
   "execution_count": 151,
   "metadata": {},
   "outputs": [],
   "source": [
    "from scipy import stats"
   ]
  },
  {
   "cell_type": "code",
   "execution_count": 152,
   "metadata": {},
   "outputs": [
    {
     "data": {
      "text/plain": [
       "0.1210708554211676"
      ]
     },
     "execution_count": 152,
     "metadata": {},
     "output_type": "execute_result"
    }
   ],
   "source": [
    "# f : two tail test\n",
    "prob=0.025\n",
    "stats.f.ppf(prob,df_ssr,df_sse)"
   ]
  },
  {
   "cell_type": "code",
   "execution_count": 153,
   "metadata": {},
   "outputs": [
    {
     "data": {
      "text/plain": [
       "2.7905171228462082"
      ]
     },
     "execution_count": 153,
     "metadata": {},
     "output_type": "execute_result"
    }
   ],
   "source": [
    "prob=0.975\n",
    "stats.f.ppf(prob,df_ssr,df_sse)"
   ]
  },
  {
   "cell_type": "code",
   "execution_count": 154,
   "metadata": {},
   "outputs": [
    {
     "data": {
      "text/plain": [
       "0.9999999999999999"
      ]
     },
     "execution_count": 154,
     "metadata": {},
     "output_type": "execute_result"
    }
   ],
   "source": [
    "# prob \n",
    "stats.f.cdf(Fstats,df_ssr,df_sse)"
   ]
  },
  {
   "cell_type": "code",
   "execution_count": 155,
   "metadata": {},
   "outputs": [
    {
     "data": {
      "text/plain": [
       "1.1102230246251565e-16"
      ]
     },
     "execution_count": 155,
     "metadata": {},
     "output_type": "execute_result"
    }
   ],
   "source": [
    "1-stats.f.cdf(Fstats,df_ssr,df_sse)"
   ]
  },
  {
   "cell_type": "markdown",
   "metadata": {},
   "source": [
    "## Residual Analysis\n",
    "- Homoscarsidy\n",
    "- Hetro (normality test)"
   ]
  },
  {
   "cell_type": "code",
   "execution_count": 156,
   "metadata": {},
   "outputs": [],
   "source": [
    "residuals = y_test-y_pred"
   ]
  },
  {
   "cell_type": "code",
   "execution_count": 157,
   "metadata": {},
   "outputs": [
    {
     "data": {
      "image/png": "[encoded data removed]",
      "text/plain": [
       "<Figure size 576x720 with 1 Axes>"
      ]
     },
     "metadata": {
      "needs_background": "light"
     },
     "output_type": "display_data"
    }
   ],
   "source": [
    "# Homo\n",
    "plt.scatter(y_test,y_pred)\n",
    "plt.xlabel(\"True values\")\n",
    "plt.plot([7,37],[7,37],'r--')\n",
    "plt.ylabel(\"Predicted values\")\n",
    "plt.show()"
   ]
  },
  {
   "cell_type": "code",
   "execution_count": 158,
   "metadata": {},
   "outputs": [
    {
     "data": {
      "image/png": "[encoded data removed]",
      "text/plain": [
       "<Figure size 576x720 with 1 Axes>"
      ]
     },
     "metadata": {
      "needs_background": "light"
     },
     "output_type": "display_data"
    }
   ],
   "source": [
    "sns.distplot(residuals)\n",
    "plt.show()"
   ]
  },
  {
   "cell_type": "code",
   "execution_count": 159,
   "metadata": {},
   "outputs": [
    {
     "data": {
      "image/png": "[encoded data removed]",
      "text/plain": [
       "<Figure size 576x720 with 1 Axes>"
      ]
     },
     "metadata": {
      "needs_background": "light"
     },
     "output_type": "display_data"
    }
   ],
   "source": [
    "fig=sm.graphics.qqplot(residuals,line='s')"
   ]
  },
  {
   "cell_type": "code",
   "execution_count": 160,
   "metadata": {},
   "outputs": [
    {
     "data": {
      "text/plain": [
       "(0.585749626159668, 0.0)"
      ]
     },
     "execution_count": 160,
     "metadata": {},
     "output_type": "execute_result"
    }
   ],
   "source": [
    "stats.shapiro(residuals)"
   ]
  },
  {
   "cell_type": "code",
   "execution_count": 161,
   "metadata": {},
   "outputs": [],
   "source": [
    "df = pd.DataFrame({'Actual': y_test, 'Predicted': y_pred})\n",
    "df1 = df.head(25)"
   ]
  },
  {
   "cell_type": "code",
   "execution_count": 162,
   "metadata": {},
   "outputs": [
    {
     "data": {
      "text/html": [
       "<div>\n",
       "<style scoped>\n",
       "    .dataframe tbody tr th:only-of-type {\n",
       "        vertical-align: middle;\n",
       "    }\n",
       "\n",
       "    .dataframe tbody tr th {\n",
       "        vertical-align: top;\n",
       "    }\n",
       "\n",
       "    .dataframe thead th {\n",
       "        text-align: right;\n",
       "    }\n",
       "</style>\n",
       "<table border=\"1\" class=\"dataframe\">\n",
       "  <thead>\n",
       "    <tr style=\"text-align: right;\">\n",
       "      <th></th>\n",
       "      <th>Actual</th>\n",
       "      <th>Predicted</th>\n",
       "    </tr>\n",
       "  </thead>\n",
       "  <tbody>\n",
       "    <tr>\n",
       "      <th>8631</th>\n",
       "      <td>91.99</td>\n",
       "      <td>110.939712</td>\n",
       "    </tr>\n",
       "    <tr>\n",
       "      <th>15430</th>\n",
       "      <td>165.00</td>\n",
       "      <td>186.457624</td>\n",
       "    </tr>\n",
       "    <tr>\n",
       "      <th>10480</th>\n",
       "      <td>113.93</td>\n",
       "      <td>153.665687</td>\n",
       "    </tr>\n",
       "    <tr>\n",
       "      <th>10195</th>\n",
       "      <td>98.98</td>\n",
       "      <td>105.906450</td>\n",
       "    </tr>\n",
       "    <tr>\n",
       "      <th>12865</th>\n",
       "      <td>97.45</td>\n",
       "      <td>105.316154</td>\n",
       "    </tr>\n",
       "    <tr>\n",
       "      <th>9245</th>\n",
       "      <td>125.36</td>\n",
       "      <td>88.581694</td>\n",
       "    </tr>\n",
       "    <tr>\n",
       "      <th>13492</th>\n",
       "      <td>103.00</td>\n",
       "      <td>135.148245</td>\n",
       "    </tr>\n",
       "    <tr>\n",
       "      <th>14634</th>\n",
       "      <td>136.00</td>\n",
       "      <td>217.674896</td>\n",
       "    </tr>\n",
       "    <tr>\n",
       "      <th>10304</th>\n",
       "      <td>97.99</td>\n",
       "      <td>119.286736</td>\n",
       "    </tr>\n",
       "    <tr>\n",
       "      <th>2018</th>\n",
       "      <td>63.99</td>\n",
       "      <td>55.058653</td>\n",
       "    </tr>\n",
       "    <tr>\n",
       "      <th>1284</th>\n",
       "      <td>28.99</td>\n",
       "      <td>45.005927</td>\n",
       "    </tr>\n",
       "    <tr>\n",
       "      <th>10186</th>\n",
       "      <td>81.99</td>\n",
       "      <td>77.716862</td>\n",
       "    </tr>\n",
       "    <tr>\n",
       "      <th>15842</th>\n",
       "      <td>268.97</td>\n",
       "      <td>317.219132</td>\n",
       "    </tr>\n",
       "    <tr>\n",
       "      <th>10278</th>\n",
       "      <td>143.10</td>\n",
       "      <td>192.293156</td>\n",
       "    </tr>\n",
       "    <tr>\n",
       "      <th>14455</th>\n",
       "      <td>249.99</td>\n",
       "      <td>397.564256</td>\n",
       "    </tr>\n",
       "    <tr>\n",
       "      <th>6091</th>\n",
       "      <td>60.00</td>\n",
       "      <td>63.671871</td>\n",
       "    </tr>\n",
       "    <tr>\n",
       "      <th>12764</th>\n",
       "      <td>64.99</td>\n",
       "      <td>96.969084</td>\n",
       "    </tr>\n",
       "    <tr>\n",
       "      <th>10935</th>\n",
       "      <td>50.87</td>\n",
       "      <td>66.538414</td>\n",
       "    </tr>\n",
       "    <tr>\n",
       "      <th>11624</th>\n",
       "      <td>115.12</td>\n",
       "      <td>98.320148</td>\n",
       "    </tr>\n",
       "    <tr>\n",
       "      <th>9293</th>\n",
       "      <td>76.18</td>\n",
       "      <td>82.716759</td>\n",
       "    </tr>\n",
       "    <tr>\n",
       "      <th>12840</th>\n",
       "      <td>89.03</td>\n",
       "      <td>77.872859</td>\n",
       "    </tr>\n",
       "    <tr>\n",
       "      <th>709</th>\n",
       "      <td>22.00</td>\n",
       "      <td>-16.327919</td>\n",
       "    </tr>\n",
       "    <tr>\n",
       "      <th>15710</th>\n",
       "      <td>375.98</td>\n",
       "      <td>471.736237</td>\n",
       "    </tr>\n",
       "    <tr>\n",
       "      <th>3533</th>\n",
       "      <td>71.24</td>\n",
       "      <td>28.826795</td>\n",
       "    </tr>\n",
       "    <tr>\n",
       "      <th>4169</th>\n",
       "      <td>30.00</td>\n",
       "      <td>42.207214</td>\n",
       "    </tr>\n",
       "  </tbody>\n",
       "</table>\n",
       "</div>"
      ],
      "text/plain": [
       "       Actual   Predicted\n",
       "8631    91.99  110.939712\n",
       "15430  165.00  186.457624\n",
       "10480  113.93  153.665687\n",
       "10195   98.98  105.906450\n",
       "12865   97.45  105.316154\n",
       "9245   125.36   88.581694\n",
       "13492  103.00  135.148245\n",
       "14634  136.00  217.674896\n",
       "10304   97.99  119.286736\n",
       "2018    63.99   55.058653\n",
       "1284    28.99   45.005927\n",
       "10186   81.99   77.716862\n",
       "15842  268.97  317.219132\n",
       "10278  143.10  192.293156\n",
       "14455  249.99  397.564256\n",
       "6091    60.00   63.671871\n",
       "12764   64.99   96.969084\n",
       "10935   50.87   66.538414\n",
       "11624  115.12   98.320148\n",
       "9293    76.18   82.716759\n",
       "12840   89.03   77.872859\n",
       "709     22.00  -16.327919\n",
       "15710  375.98  471.736237\n",
       "3533    71.24   28.826795\n",
       "4169    30.00   42.207214"
      ]
     },
     "execution_count": 162,
     "metadata": {},
     "output_type": "execute_result"
    }
   ],
   "source": [
    "df1"
   ]
  },
  {
   "cell_type": "code",
   "execution_count": 163,
   "metadata": {},
   "outputs": [
    {
     "data": {
      "text/plain": [
       "array([ 41.5451645 , 135.35644055,  80.78063659, ...,  93.88624955,\n",
       "       136.69423837,  76.71107156])"
      ]
     },
     "execution_count": 163,
     "metadata": {},
     "output_type": "execute_result"
    }
   ],
   "source": [
    "y_pred_train=model.predict(x_train)\n",
    "y_pred_train"
   ]
  },
  {
   "cell_type": "code",
   "execution_count": 164,
   "metadata": {},
   "outputs": [
    {
     "data": {
      "text/plain": [
       "2163      -12.045165\n",
       "8285        4.633559\n",
       "10837     -53.580637\n",
       "9005      -31.814555\n",
       "4859       11.498767\n",
       "7914      -12.131148\n",
       "12848     -22.904759\n",
       "10364     -21.472480\n",
       "13336      -7.052743\n",
       "11985     -46.354005\n",
       "4439       -7.762571\n",
       "3733       27.573136\n",
       "9683      -29.049310\n",
       "5537      -14.149694\n",
       "3867       -3.275348\n",
       "11550      11.498199\n",
       "2017        5.396099\n",
       "8740      -58.340792\n",
       "38         -8.277189\n",
       "14499    5641.427434\n",
       "1621      -21.721950\n",
       "2109        1.917896\n",
       "11760      -2.745449\n",
       "13384       9.285240\n",
       "6780        9.023952\n",
       "13772     -17.826450\n",
       "7902      -33.549716\n",
       "14827     -92.077981\n",
       "1016        8.660045\n",
       "2298       10.906844\n",
       "            ...     \n",
       "3588        3.396422\n",
       "733        -5.211981\n",
       "3813       12.626107\n",
       "13783     -13.391851\n",
       "9627      -21.218323\n",
       "4895       -4.682035\n",
       "12666       2.886021\n",
       "6965        6.876664\n",
       "1333       16.944571\n",
       "7330      -13.834417\n",
       "10605       3.497584\n",
       "8770      -42.661789\n",
       "8943       98.610065\n",
       "3144      -22.398329\n",
       "8002       42.117141\n",
       "15565      83.964481\n",
       "14936     -73.170696\n",
       "13586      -3.713204\n",
       "6597       -8.352596\n",
       "76        -20.309738\n",
       "10655     -88.789331\n",
       "2862        3.656376\n",
       "1057      -10.096914\n",
       "2493       -2.266103\n",
       "4348       -0.471564\n",
       "14515    -124.672583\n",
       "4909       48.483707\n",
       "8609      -23.896250\n",
       "13617     -33.004238\n",
       "1619      -21.711072\n",
       "Name: price, Length: 10877, dtype: float64"
      ]
     },
     "execution_count": 164,
     "metadata": {},
     "output_type": "execute_result"
    }
   ],
   "source": [
    "residulas_train = y_train-y_pred_train\n",
    "residulas_train"
   ]
  },
  {
   "cell_type": "code",
   "execution_count": 165,
   "metadata": {},
   "outputs": [],
   "source": [
    "def zscore(x):\n",
    "    std=pd.Series(x).std()\n",
    "    z=(x-x.mean())/std\n",
    "    return z"
   ]
  },
  {
   "cell_type": "code",
   "execution_count": 166,
   "metadata": {},
   "outputs": [
    {
     "data": {
      "text/plain": [
       "array([-0.60671227,  0.34242081, -0.20974843, ..., -0.07715274,\n",
       "        0.35595595, -0.25092214])"
      ]
     },
     "execution_count": 166,
     "metadata": {},
     "output_type": "execute_result"
    }
   ],
   "source": [
    "y_pred_stand = zscore(y_pred_train)\n",
    "y_pred_stand"
   ]
  },
  {
   "cell_type": "code",
   "execution_count": 167,
   "metadata": {},
   "outputs": [],
   "source": [
    "residuals_normalized = zscore(residulas_train)\n",
    "residuals_normalized_square=np.square(residuals_normalized)"
   ]
  },
  {
   "cell_type": "code",
   "execution_count": 168,
   "metadata": {},
   "outputs": [],
   "source": [
    "# Leverage\n",
    "n = len(x_train)\n",
    "h = (np.square(y_pred_stand)+1)/n"
   ]
  },
  {
   "cell_type": "code",
   "execution_count": 169,
   "metadata": {},
   "outputs": [
    {
     "data": {
      "image/png": "[encoded data removed]",
      "text/plain": [
       "<Figure size 720x432 with 1 Axes>"
      ]
     },
     "metadata": {
      "needs_background": "light"
     },
     "output_type": "display_data"
    }
   ],
   "source": [
    "plt.figure(figsize=(10,6))\n",
    "plt.scatter(residuals_normalized_square,h)\n",
    "plt.xlabel('Squared of normalized residuals')\n",
    "plt.ylabel('Leverage')\n",
    "plt.title('Leverage')\n",
    "plt.grid()\n",
    "plt.show()"
   ]
  },
  {
   "cell_type": "code",
   "execution_count": 170,
   "metadata": {},
   "outputs": [],
   "source": [
    "summary_frame = pd.DataFrame()"
   ]
  },
  {
   "cell_type": "code",
   "execution_count": 171,
   "metadata": {},
   "outputs": [],
   "source": [
    "summary_frame['y_train']=y_train\n",
    "summary_frame['y_train_pred']=y_pred_train\n",
    "summary_frame['residual']=residulas_train\n",
    "summary_frame['normalized residuals']=residuals_normalized\n",
    "summary_frame['leverage h']=h"
   ]
  },
  {
   "cell_type": "code",
   "execution_count": 172,
   "metadata": {},
   "outputs": [
    {
     "data": {
      "text/html": [
       "<div>\n",
       "<style scoped>\n",
       "    .dataframe tbody tr th:only-of-type {\n",
       "        vertical-align: middle;\n",
       "    }\n",
       "\n",
       "    .dataframe tbody tr th {\n",
       "        vertical-align: top;\n",
       "    }\n",
       "\n",
       "    .dataframe thead th {\n",
       "        text-align: right;\n",
       "    }\n",
       "</style>\n",
       "<table border=\"1\" class=\"dataframe\">\n",
       "  <thead>\n",
       "    <tr style=\"text-align: right;\">\n",
       "      <th></th>\n",
       "      <th>y_train</th>\n",
       "      <th>y_train_pred</th>\n",
       "      <th>residual</th>\n",
       "      <th>normalized residuals</th>\n",
       "      <th>leverage h</th>\n",
       "    </tr>\n",
       "  </thead>\n",
       "  <tbody>\n",
       "    <tr>\n",
       "      <th>2163</th>\n",
       "      <td>29.50</td>\n",
       "      <td>41.545165</td>\n",
       "      <td>-12.045165</td>\n",
       "      <td>-0.084929</td>\n",
       "      <td>0.000126</td>\n",
       "    </tr>\n",
       "    <tr>\n",
       "      <th>8285</th>\n",
       "      <td>139.99</td>\n",
       "      <td>135.356441</td>\n",
       "      <td>4.633559</td>\n",
       "      <td>0.032671</td>\n",
       "      <td>0.000103</td>\n",
       "    </tr>\n",
       "    <tr>\n",
       "      <th>10837</th>\n",
       "      <td>27.20</td>\n",
       "      <td>80.780637</td>\n",
       "      <td>-53.580637</td>\n",
       "      <td>-0.377789</td>\n",
       "      <td>0.000096</td>\n",
       "    </tr>\n",
       "    <tr>\n",
       "      <th>9005</th>\n",
       "      <td>35.44</td>\n",
       "      <td>67.254555</td>\n",
       "      <td>-31.814555</td>\n",
       "      <td>-0.224320</td>\n",
       "      <td>0.000103</td>\n",
       "    </tr>\n",
       "    <tr>\n",
       "      <th>4859</th>\n",
       "      <td>28.50</td>\n",
       "      <td>17.001233</td>\n",
       "      <td>11.498767</td>\n",
       "      <td>0.081076</td>\n",
       "      <td>0.000159</td>\n",
       "    </tr>\n",
       "  </tbody>\n",
       "</table>\n",
       "</div>"
      ],
      "text/plain": [
       "       y_train  y_train_pred   residual  normalized residuals  leverage h\n",
       "2163     29.50     41.545165 -12.045165             -0.084929    0.000126\n",
       "8285    139.99    135.356441   4.633559              0.032671    0.000103\n",
       "10837    27.20     80.780637 -53.580637             -0.377789    0.000096\n",
       "9005     35.44     67.254555 -31.814555             -0.224320    0.000103\n",
       "4859     28.50     17.001233  11.498767              0.081076    0.000159"
      ]
     },
     "execution_count": 172,
     "metadata": {},
     "output_type": "execute_result"
    }
   ],
   "source": [
    "summary_frame.head()"
   ]
  },
  {
   "cell_type": "code",
   "execution_count": 173,
   "metadata": {},
   "outputs": [],
   "source": [
    "num = summary_frame['residual']**2\n",
    "d1 = num/(k*summary_frame['residual'].var())"
   ]
  },
  {
   "cell_type": "code",
   "execution_count": 174,
   "metadata": {},
   "outputs": [],
   "source": [
    "d2 = summary_frame['leverage h']/np.square((1-summary_frame['leverage h']))"
   ]
  },
  {
   "cell_type": "code",
   "execution_count": 175,
   "metadata": {},
   "outputs": [],
   "source": [
    "D =np.multiply(d1,d2)"
   ]
  },
  {
   "cell_type": "code",
   "execution_count": 176,
   "metadata": {},
   "outputs": [],
   "source": [
    "summary_frame['cooks_dist']=D"
   ]
  },
  {
   "cell_type": "code",
   "execution_count": 177,
   "metadata": {},
   "outputs": [],
   "source": [
    "summary_frame.reset_index(inplace=True)"
   ]
  },
  {
   "cell_type": "code",
   "execution_count": 178,
   "metadata": {},
   "outputs": [
    {
     "data": {
      "text/html": [
       "<div>\n",
       "<style scoped>\n",
       "    .dataframe tbody tr th:only-of-type {\n",
       "        vertical-align: middle;\n",
       "    }\n",
       "\n",
       "    .dataframe tbody tr th {\n",
       "        vertical-align: top;\n",
       "    }\n",
       "\n",
       "    .dataframe thead th {\n",
       "        text-align: right;\n",
       "    }\n",
       "</style>\n",
       "<table border=\"1\" class=\"dataframe\">\n",
       "  <thead>\n",
       "    <tr style=\"text-align: right;\">\n",
       "      <th></th>\n",
       "      <th>index</th>\n",
       "      <th>y_train</th>\n",
       "      <th>y_train_pred</th>\n",
       "      <th>residual</th>\n",
       "      <th>normalized residuals</th>\n",
       "      <th>leverage h</th>\n",
       "      <th>cooks_dist</th>\n",
       "    </tr>\n",
       "  </thead>\n",
       "  <tbody>\n",
       "    <tr>\n",
       "      <th>0</th>\n",
       "      <td>2163</td>\n",
       "      <td>29.50</td>\n",
       "      <td>41.545165</td>\n",
       "      <td>-12.045165</td>\n",
       "      <td>-0.084929</td>\n",
       "      <td>0.000126</td>\n",
       "      <td>2.268649e-07</td>\n",
       "    </tr>\n",
       "    <tr>\n",
       "      <th>1</th>\n",
       "      <td>8285</td>\n",
       "      <td>139.99</td>\n",
       "      <td>135.356441</td>\n",
       "      <td>4.633559</td>\n",
       "      <td>0.032671</td>\n",
       "      <td>0.000103</td>\n",
       "      <td>2.741478e-08</td>\n",
       "    </tr>\n",
       "  </tbody>\n",
       "</table>\n",
       "</div>"
      ],
      "text/plain": [
       "   index  y_train  y_train_pred   residual  normalized residuals  leverage h  \\\n",
       "0   2163    29.50     41.545165 -12.045165             -0.084929    0.000126   \n",
       "1   8285   139.99    135.356441   4.633559              0.032671    0.000103   \n",
       "\n",
       "     cooks_dist  \n",
       "0  2.268649e-07  \n",
       "1  2.741478e-08  "
      ]
     },
     "execution_count": 178,
     "metadata": {},
     "output_type": "execute_result"
    }
   ],
   "source": [
    "summary_frame.head(2)"
   ]
  },
  {
   "cell_type": "code",
   "execution_count": 179,
   "metadata": {},
   "outputs": [
    {
     "data": {
      "text/plain": [
       "[<matplotlib.lines.Line2D at 0x1ba9eb80748>]"
      ]
     },
     "execution_count": 179,
     "metadata": {},
     "output_type": "execute_result"
    },
    {
     "data": {
      "image/png": "[encoded data removed]",
      "text/plain": [
       "<Figure size 900x360 with 1 Axes>"
      ]
     },
     "metadata": {
      "needs_background": "light"
     },
     "output_type": "display_data"
    }
   ],
   "source": [
    "sns.relplot(x='index',y='cooks_dist',data=summary_frame,aspect=2.5)\n",
    "plt.plot([0,400],[0.009,0.009],'r--')"
   ]
  },
  {
   "cell_type": "code",
   "execution_count": 180,
   "metadata": {},
   "outputs": [
    {
     "data": {
      "text/plain": [
       "array([14499, 15389, 14695, 15361, 15325, 16068, 15860, 15852, 16069,\n",
       "       14522, 15789, 15102, 15167, 16001, 16024, 16071, 15362, 15351,\n",
       "       15583, 15000, 16093, 15468, 16080, 15831, 15779, 15785, 15162,\n",
       "       15945, 15678, 16051, 15426, 15851, 10065, 15811, 15526, 15474,\n",
       "       14678, 16100, 16041, 15459, 15719, 14699, 14860, 16092, 15820,\n",
       "       16066, 15166, 16099, 15197, 16067, 14570, 16096, 15229, 15775,\n",
       "       16098, 15928, 13503, 14335, 15817, 15844, 15518, 16078, 15763,\n",
       "       14566, 16075, 14587, 15861, 14687, 15103, 15765, 15962, 15766,\n",
       "        9613, 16101, 16043, 16034, 15018, 15916, 15015, 15946, 14905,\n",
       "       15879, 15124, 16084, 16097, 15135, 14941, 16035, 16006, 16026],\n",
       "      dtype=int64)"
      ]
     },
     "execution_count": 180,
     "metadata": {},
     "output_type": "execute_result"
    }
   ],
   "source": [
    "outliers_index=summary_frame[summary_frame['cooks_dist']>0.001]['index'].values\n",
    "outliers_index"
   ]
  },
  {
   "cell_type": "code",
   "execution_count": 181,
   "metadata": {},
   "outputs": [],
   "source": [
    "x_train_new=x_train\n",
    "y_train_new=y_train"
   ]
  },
  {
   "cell_type": "code",
   "execution_count": 182,
   "metadata": {},
   "outputs": [
    {
     "data": {
      "text/plain": [
       "LinearRegression(copy_X=True, fit_intercept=True, n_jobs=None, normalize=False)"
      ]
     },
     "execution_count": 182,
     "metadata": {},
     "output_type": "execute_result"
    }
   ],
   "source": [
    "model_new= LinearRegression()\n",
    "model_new.fit(x_train_new,y_train_new)"
   ]
  },
  {
   "cell_type": "code",
   "execution_count": 185,
   "metadata": {},
   "outputs": [
    {
     "data": {
      "text/plain": [
       "0.6425130998402657"
      ]
     },
     "execution_count": 185,
     "metadata": {},
     "output_type": "execute_result"
    }
   ],
   "source": [
    "model.score(x_test,y_test)"
   ]
  },
  {
   "cell_type": "code",
   "execution_count": 186,
   "metadata": {},
   "outputs": [
    {
     "data": {
      "text/plain": [
       "0.6425130998402657"
      ]
     },
     "execution_count": 186,
     "metadata": {},
     "output_type": "execute_result"
    }
   ],
   "source": [
    "model_new.score(x_test,y_test)"
   ]
  },
  {
   "cell_type": "code",
   "execution_count": null,
   "metadata": {},
   "outputs": [],
   "source": []
  }
 ],
 "metadata": {
  "kernelspec": {
   "display_name": "Python 3",
   "language": "python",
   "name": "python3"
  },
  "language_info": {
   "codemirror_mode": {
    "name": "ipython",
    "version": 3
   },
   "file_extension": ".py",
   "mimetype": "text/x-python",
   "name": "python",
   "nbconvert_exporter": "python",
   "pygments_lexer": "ipython3",
   "version": "3.7.3"
  }
 },
 "nbformat": 4,
 "nbformat_minor": 2
}
